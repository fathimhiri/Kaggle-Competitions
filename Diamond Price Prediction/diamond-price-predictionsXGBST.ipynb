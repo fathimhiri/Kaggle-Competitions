{
 "cells": [
  {
   "cell_type": "code",
   "execution_count": 1,
   "id": "e9996a75",
   "metadata": {
    "_cell_guid": "b1076dfc-b9ad-4769-8c92-a6c4dae69d19",
    "_uuid": "8f2839f25d086af736a60e9eeb907d3b93b6e0e5",
    "execution": {
     "iopub.execute_input": "2022-04-16T21:18:56.650004Z",
     "iopub.status.busy": "2022-04-16T21:18:56.648515Z",
     "iopub.status.idle": "2022-04-16T21:18:56.661273Z",
     "shell.execute_reply": "2022-04-16T21:18:56.660794Z",
     "shell.execute_reply.started": "2022-04-16T21:12:35.675728Z"
    },
    "papermill": {
     "duration": 0.062561,
     "end_time": "2022-04-16T21:18:56.661401",
     "exception": false,
     "start_time": "2022-04-16T21:18:56.598840",
     "status": "completed"
    },
    "tags": []
   },
   "outputs": [
    {
     "name": "stdout",
     "output_type": "stream",
     "text": [
      "/kaggle/input/shai-club/train.csv\n",
      "/kaggle/input/shai-club/test.csv\n"
     ]
    }
   ],
   "source": [
    "# This Python 3 environment comes with many helpful analytics libraries installed\n",
    "# It is defined by the kaggle/python Docker image: https://github.com/kaggle/docker-python\n",
    "# For example, here's several helpful packages to load\n",
    "\n",
    "import numpy as np # linear algebra\n",
    "import pandas as pd # data processing, CSV file I/O (e.g. pd.read_csv)\n",
    "\n",
    "# Input data files are available in the read-only \"../input/\" directory\n",
    "# For example, running this (by clicking run or pressing Shift+Enter) will list all files under the input directory\n",
    "\n",
    "import os\n",
    "for dirname, _, filenames in os.walk('/kaggle/input'):\n",
    "    for filename in filenames:\n",
    "        print(os.path.join(dirname, filename))\n",
    "\n",
    "# You can write up to 20GB to the current directory (/kaggle/working/) that gets preserved as output when you create a version using \"Save & Run All\" \n",
    "# You can also write temporary files to /kaggle/temp/, but they won't be saved outside of the current session"
   ]
  },
  {
   "cell_type": "code",
   "execution_count": 2,
   "id": "9b021fbc",
   "metadata": {
    "execution": {
     "iopub.execute_input": "2022-04-16T21:18:56.759434Z",
     "iopub.status.busy": "2022-04-16T21:18:56.758938Z",
     "iopub.status.idle": "2022-04-16T21:18:57.648916Z",
     "shell.execute_reply": "2022-04-16T21:18:57.648424Z",
     "shell.execute_reply.started": "2022-04-16T21:12:35.711227Z"
    },
    "papermill": {
     "duration": 0.937964,
     "end_time": "2022-04-16T21:18:57.649062",
     "exception": false,
     "start_time": "2022-04-16T21:18:56.711098",
     "status": "completed"
    },
    "tags": []
   },
   "outputs": [],
   "source": [
    "import pandas as pd\n",
    "import numpy as np\n",
    "import matplotlib.pyplot as plt\n",
    "import seaborn as sns"
   ]
  },
  {
   "cell_type": "code",
   "execution_count": 3,
   "id": "8d336998",
   "metadata": {
    "execution": {
     "iopub.execute_input": "2022-04-16T21:18:57.744281Z",
     "iopub.status.busy": "2022-04-16T21:18:57.743345Z",
     "iopub.status.idle": "2022-04-16T21:18:57.853440Z",
     "shell.execute_reply": "2022-04-16T21:18:57.853901Z",
     "shell.execute_reply.started": "2022-04-16T21:12:36.610434Z"
    },
    "papermill": {
     "duration": 0.159716,
     "end_time": "2022-04-16T21:18:57.854053",
     "exception": false,
     "start_time": "2022-04-16T21:18:57.694337",
     "status": "completed"
    },
    "tags": []
   },
   "outputs": [
    {
     "name": "stdout",
     "output_type": "stream",
     "text": [
      "train length is  43152\n",
      "test length is  10788\n"
     ]
    }
   ],
   "source": [
    "test = pd.read_csv(\"../input/shai-club/test.csv\")\n",
    "train = pd.read_csv(\"../input/shai-club/train.csv\")\n",
    "train_len = len(train)\n",
    "test_len = len(test)\n",
    "print(\"train length is \", train_len)\n",
    "print(\"test length is \", test_len)"
   ]
  },
  {
   "cell_type": "code",
   "execution_count": 4,
   "id": "69d7f3be",
   "metadata": {
    "execution": {
     "iopub.execute_input": "2022-04-16T21:18:57.961320Z",
     "iopub.status.busy": "2022-04-16T21:18:57.960544Z",
     "iopub.status.idle": "2022-04-16T21:18:57.963214Z",
     "shell.execute_reply": "2022-04-16T21:18:57.962735Z",
     "shell.execute_reply.started": "2022-04-16T21:12:36.732826Z"
    },
    "papermill": {
     "duration": 0.059625,
     "end_time": "2022-04-16T21:18:57.963335",
     "exception": false,
     "start_time": "2022-04-16T21:18:57.903710",
     "status": "completed"
    },
    "tags": []
   },
   "outputs": [],
   "source": [
    "id = test['Id']"
   ]
  },
  {
   "cell_type": "code",
   "execution_count": 5,
   "id": "db6a0266",
   "metadata": {
    "execution": {
     "iopub.execute_input": "2022-04-16T21:18:58.072753Z",
     "iopub.status.busy": "2022-04-16T21:18:58.071919Z",
     "iopub.status.idle": "2022-04-16T21:18:58.075278Z",
     "shell.execute_reply": "2022-04-16T21:18:58.075791Z",
     "shell.execute_reply.started": "2022-04-16T21:12:36.745190Z"
    },
    "papermill": {
     "duration": 0.062311,
     "end_time": "2022-04-16T21:18:58.075935",
     "exception": false,
     "start_time": "2022-04-16T21:18:58.013624",
     "status": "completed"
    },
    "tags": []
   },
   "outputs": [
    {
     "data": {
      "text/plain": [
       "False"
      ]
     },
     "execution_count": 5,
     "metadata": {},
     "output_type": "execute_result"
    }
   ],
   "source": [
    "train['price'].isna().any()"
   ]
  },
  {
   "cell_type": "code",
   "execution_count": 6,
   "id": "12a93bf8",
   "metadata": {
    "execution": {
     "iopub.execute_input": "2022-04-16T21:18:58.179196Z",
     "iopub.status.busy": "2022-04-16T21:18:58.178607Z",
     "iopub.status.idle": "2022-04-16T21:18:58.691605Z",
     "shell.execute_reply": "2022-04-16T21:18:58.691174Z",
     "shell.execute_reply.started": "2022-04-16T21:12:36.758088Z"
    },
    "papermill": {
     "duration": 0.56569,
     "end_time": "2022-04-16T21:18:58.691741",
     "exception": false,
     "start_time": "2022-04-16T21:18:58.126051",
     "status": "completed"
    },
    "tags": []
   },
   "outputs": [
    {
     "name": "stderr",
     "output_type": "stream",
     "text": [
      "/opt/conda/lib/python3.7/site-packages/seaborn/distributions.py:2619: FutureWarning: `distplot` is a deprecated function and will be removed in a future version. Please adapt your code to use either `displot` (a figure-level function with similar flexibility) or `histplot` (an axes-level function for histograms).\n",
      "  warnings.warn(msg, FutureWarning)\n"
     ]
    },
    {
     "data": {
      "text/plain": [
       "<AxesSubplot:xlabel='price', ylabel='Density'>"
      ]
     },
     "execution_count": 6,
     "metadata": {},
     "output_type": "execute_result"
    },
    {
     "data": {
      "image/png": "[encoded data removed]",
      "text/plain": [
       "<Figure size 432x288 with 1 Axes>"
      ]
     },
     "metadata": {
      "needs_background": "light"
     },
     "output_type": "display_data"
    }
   ],
   "source": [
    "sns.distplot(train['price'])"
   ]
  },
  {
   "cell_type": "code",
   "execution_count": 7,
   "id": "1bbbfd56",
   "metadata": {
    "execution": {
     "iopub.execute_input": "2022-04-16T21:18:58.792664Z",
     "iopub.status.busy": "2022-04-16T21:18:58.791716Z",
     "iopub.status.idle": "2022-04-16T21:18:58.847166Z",
     "shell.execute_reply": "2022-04-16T21:18:58.842559Z",
     "shell.execute_reply.started": "2022-04-16T21:12:37.290666Z"
    },
    "papermill": {
     "duration": 0.108673,
     "end_time": "2022-04-16T21:18:58.847565",
     "exception": false,
     "start_time": "2022-04-16T21:18:58.738892",
     "status": "completed"
    },
    "tags": []
   },
   "outputs": [
    {
     "data": {
      "text/html": [
       "<div>\n",
       "<style scoped>\n",
       "    .dataframe tbody tr th:only-of-type {\n",
       "        vertical-align: middle;\n",
       "    }\n",
       "\n",
       "    .dataframe tbody tr th {\n",
       "        vertical-align: top;\n",
       "    }\n",
       "\n",
       "    .dataframe thead th {\n",
       "        text-align: right;\n",
       "    }\n",
       "</style>\n",
       "<table border=\"1\" class=\"dataframe\">\n",
       "  <thead>\n",
       "    <tr style=\"text-align: right;\">\n",
       "      <th></th>\n",
       "      <th>Id</th>\n",
       "      <th>carat</th>\n",
       "      <th>depth</th>\n",
       "      <th>table</th>\n",
       "      <th>price</th>\n",
       "      <th>x</th>\n",
       "      <th>y</th>\n",
       "      <th>z</th>\n",
       "    </tr>\n",
       "  </thead>\n",
       "  <tbody>\n",
       "    <tr>\n",
       "      <th>count</th>\n",
       "      <td>43152.000000</td>\n",
       "      <td>43152.000000</td>\n",
       "      <td>43152.000000</td>\n",
       "      <td>43152.000000</td>\n",
       "      <td>43152.000000</td>\n",
       "      <td>43152.000000</td>\n",
       "      <td>43152.000000</td>\n",
       "      <td>43152.000000</td>\n",
       "    </tr>\n",
       "    <tr>\n",
       "      <th>mean</th>\n",
       "      <td>21576.500000</td>\n",
       "      <td>0.797855</td>\n",
       "      <td>61.747177</td>\n",
       "      <td>57.458347</td>\n",
       "      <td>3929.491912</td>\n",
       "      <td>5.731568</td>\n",
       "      <td>5.735018</td>\n",
       "      <td>3.538568</td>\n",
       "    </tr>\n",
       "    <tr>\n",
       "      <th>std</th>\n",
       "      <td>12457.053745</td>\n",
       "      <td>0.473594</td>\n",
       "      <td>1.435454</td>\n",
       "      <td>2.233904</td>\n",
       "      <td>3985.527795</td>\n",
       "      <td>1.121279</td>\n",
       "      <td>1.148809</td>\n",
       "      <td>0.708238</td>\n",
       "    </tr>\n",
       "    <tr>\n",
       "      <th>min</th>\n",
       "      <td>1.000000</td>\n",
       "      <td>0.200000</td>\n",
       "      <td>43.000000</td>\n",
       "      <td>43.000000</td>\n",
       "      <td>326.000000</td>\n",
       "      <td>0.000000</td>\n",
       "      <td>0.000000</td>\n",
       "      <td>0.000000</td>\n",
       "    </tr>\n",
       "    <tr>\n",
       "      <th>25%</th>\n",
       "      <td>10788.750000</td>\n",
       "      <td>0.400000</td>\n",
       "      <td>61.000000</td>\n",
       "      <td>56.000000</td>\n",
       "      <td>947.750000</td>\n",
       "      <td>4.710000</td>\n",
       "      <td>4.720000</td>\n",
       "      <td>2.910000</td>\n",
       "    </tr>\n",
       "    <tr>\n",
       "      <th>50%</th>\n",
       "      <td>21576.500000</td>\n",
       "      <td>0.700000</td>\n",
       "      <td>61.800000</td>\n",
       "      <td>57.000000</td>\n",
       "      <td>2401.000000</td>\n",
       "      <td>5.700000</td>\n",
       "      <td>5.710000</td>\n",
       "      <td>3.530000</td>\n",
       "    </tr>\n",
       "    <tr>\n",
       "      <th>75%</th>\n",
       "      <td>32364.250000</td>\n",
       "      <td>1.040000</td>\n",
       "      <td>62.500000</td>\n",
       "      <td>59.000000</td>\n",
       "      <td>5312.000000</td>\n",
       "      <td>6.540000</td>\n",
       "      <td>6.540000</td>\n",
       "      <td>4.040000</td>\n",
       "    </tr>\n",
       "    <tr>\n",
       "      <th>max</th>\n",
       "      <td>43152.000000</td>\n",
       "      <td>5.010000</td>\n",
       "      <td>79.000000</td>\n",
       "      <td>95.000000</td>\n",
       "      <td>18823.000000</td>\n",
       "      <td>10.740000</td>\n",
       "      <td>58.900000</td>\n",
       "      <td>31.800000</td>\n",
       "    </tr>\n",
       "  </tbody>\n",
       "</table>\n",
       "</div>"
      ],
      "text/plain": [
       "                 Id         carat         depth         table         price  \\\n",
       "count  43152.000000  43152.000000  43152.000000  43152.000000  43152.000000   \n",
       "mean   21576.500000      0.797855     61.747177     57.458347   3929.491912   \n",
       "std    12457.053745      0.473594      1.435454      2.233904   3985.527795   \n",
       "min        1.000000      0.200000     43.000000     43.000000    326.000000   \n",
       "25%    10788.750000      0.400000     61.000000     56.000000    947.750000   \n",
       "50%    21576.500000      0.700000     61.800000     57.000000   2401.000000   \n",
       "75%    32364.250000      1.040000     62.500000     59.000000   5312.000000   \n",
       "max    43152.000000      5.010000     79.000000     95.000000  18823.000000   \n",
       "\n",
       "                  x             y             z  \n",
       "count  43152.000000  43152.000000  43152.000000  \n",
       "mean       5.731568      5.735018      3.538568  \n",
       "std        1.121279      1.148809      0.708238  \n",
       "min        0.000000      0.000000      0.000000  \n",
       "25%        4.710000      4.720000      2.910000  \n",
       "50%        5.700000      5.710000      3.530000  \n",
       "75%        6.540000      6.540000      4.040000  \n",
       "max       10.740000     58.900000     31.800000  "
      ]
     },
     "execution_count": 7,
     "metadata": {},
     "output_type": "execute_result"
    }
   ],
   "source": [
    "train.describe()"
   ]
  },
  {
   "cell_type": "code",
   "execution_count": 8,
   "id": "bf069ac2",
   "metadata": {
    "execution": {
     "iopub.execute_input": "2022-04-16T21:18:59.038332Z",
     "iopub.status.busy": "2022-04-16T21:18:59.037458Z",
     "iopub.status.idle": "2022-04-16T21:18:59.056269Z",
     "shell.execute_reply": "2022-04-16T21:18:59.056902Z",
     "shell.execute_reply.started": "2022-04-16T21:12:37.338806Z"
    },
    "papermill": {
     "duration": 0.11134,
     "end_time": "2022-04-16T21:18:59.057095",
     "exception": false,
     "start_time": "2022-04-16T21:18:58.945755",
     "status": "completed"
    },
    "tags": []
   },
   "outputs": [],
   "source": [
    "train.drop(train[train ['x']==0].index,inplace=True)\n",
    "train.drop(train[train ['y']==0].index,inplace=True)\n",
    "train.drop(train[train ['z']==0].index,inplace=True)"
   ]
  },
  {
   "cell_type": "code",
   "execution_count": 9,
   "id": "4c470973",
   "metadata": {
    "execution": {
     "iopub.execute_input": "2022-04-16T21:18:59.218283Z",
     "iopub.status.busy": "2022-04-16T21:18:59.217327Z",
     "iopub.status.idle": "2022-04-16T21:18:59.263390Z",
     "shell.execute_reply": "2022-04-16T21:18:59.264328Z",
     "shell.execute_reply.started": "2022-04-16T21:12:37.363280Z"
    },
    "papermill": {
     "duration": 0.129806,
     "end_time": "2022-04-16T21:18:59.264520",
     "exception": false,
     "start_time": "2022-04-16T21:18:59.134714",
     "status": "completed"
    },
    "tags": []
   },
   "outputs": [
    {
     "data": {
      "text/html": [
       "<div>\n",
       "<style scoped>\n",
       "    .dataframe tbody tr th:only-of-type {\n",
       "        vertical-align: middle;\n",
       "    }\n",
       "\n",
       "    .dataframe tbody tr th {\n",
       "        vertical-align: top;\n",
       "    }\n",
       "\n",
       "    .dataframe thead th {\n",
       "        text-align: right;\n",
       "    }\n",
       "</style>\n",
       "<table border=\"1\" class=\"dataframe\">\n",
       "  <thead>\n",
       "    <tr style=\"text-align: right;\">\n",
       "      <th></th>\n",
       "      <th>Id</th>\n",
       "      <th>carat</th>\n",
       "      <th>depth</th>\n",
       "      <th>table</th>\n",
       "      <th>price</th>\n",
       "      <th>x</th>\n",
       "      <th>y</th>\n",
       "      <th>z</th>\n",
       "    </tr>\n",
       "  </thead>\n",
       "  <tbody>\n",
       "    <tr>\n",
       "      <th>count</th>\n",
       "      <td>43135.000000</td>\n",
       "      <td>43135.000000</td>\n",
       "      <td>43135.000000</td>\n",
       "      <td>43135.000000</td>\n",
       "      <td>43135.000000</td>\n",
       "      <td>43135.000000</td>\n",
       "      <td>43135.000000</td>\n",
       "      <td>43135.000000</td>\n",
       "    </tr>\n",
       "    <tr>\n",
       "      <th>mean</th>\n",
       "      <td>21577.642796</td>\n",
       "      <td>0.797578</td>\n",
       "      <td>61.747386</td>\n",
       "      <td>57.457925</td>\n",
       "      <td>3927.668691</td>\n",
       "      <td>5.731757</td>\n",
       "      <td>5.735070</td>\n",
       "      <td>3.539962</td>\n",
       "    </tr>\n",
       "    <tr>\n",
       "      <th>std</th>\n",
       "      <td>12456.553482</td>\n",
       "      <td>0.473325</td>\n",
       "      <td>1.435091</td>\n",
       "      <td>2.233401</td>\n",
       "      <td>3983.324154</td>\n",
       "      <td>1.119336</td>\n",
       "      <td>1.147272</td>\n",
       "      <td>0.704884</td>\n",
       "    </tr>\n",
       "    <tr>\n",
       "      <th>min</th>\n",
       "      <td>1.000000</td>\n",
       "      <td>0.200000</td>\n",
       "      <td>43.000000</td>\n",
       "      <td>43.000000</td>\n",
       "      <td>326.000000</td>\n",
       "      <td>3.730000</td>\n",
       "      <td>3.680000</td>\n",
       "      <td>1.070000</td>\n",
       "    </tr>\n",
       "    <tr>\n",
       "      <th>25%</th>\n",
       "      <td>10789.500000</td>\n",
       "      <td>0.400000</td>\n",
       "      <td>61.000000</td>\n",
       "      <td>56.000000</td>\n",
       "      <td>947.000000</td>\n",
       "      <td>4.710000</td>\n",
       "      <td>4.720000</td>\n",
       "      <td>2.910000</td>\n",
       "    </tr>\n",
       "    <tr>\n",
       "      <th>50%</th>\n",
       "      <td>21578.000000</td>\n",
       "      <td>0.700000</td>\n",
       "      <td>61.800000</td>\n",
       "      <td>57.000000</td>\n",
       "      <td>2400.000000</td>\n",
       "      <td>5.700000</td>\n",
       "      <td>5.710000</td>\n",
       "      <td>3.530000</td>\n",
       "    </tr>\n",
       "    <tr>\n",
       "      <th>75%</th>\n",
       "      <td>32364.500000</td>\n",
       "      <td>1.040000</td>\n",
       "      <td>62.500000</td>\n",
       "      <td>59.000000</td>\n",
       "      <td>5311.000000</td>\n",
       "      <td>6.540000</td>\n",
       "      <td>6.540000</td>\n",
       "      <td>4.040000</td>\n",
       "    </tr>\n",
       "    <tr>\n",
       "      <th>max</th>\n",
       "      <td>43152.000000</td>\n",
       "      <td>5.010000</td>\n",
       "      <td>79.000000</td>\n",
       "      <td>95.000000</td>\n",
       "      <td>18823.000000</td>\n",
       "      <td>10.740000</td>\n",
       "      <td>58.900000</td>\n",
       "      <td>31.800000</td>\n",
       "    </tr>\n",
       "  </tbody>\n",
       "</table>\n",
       "</div>"
      ],
      "text/plain": [
       "                 Id         carat         depth         table         price  \\\n",
       "count  43135.000000  43135.000000  43135.000000  43135.000000  43135.000000   \n",
       "mean   21577.642796      0.797578     61.747386     57.457925   3927.668691   \n",
       "std    12456.553482      0.473325      1.435091      2.233401   3983.324154   \n",
       "min        1.000000      0.200000     43.000000     43.000000    326.000000   \n",
       "25%    10789.500000      0.400000     61.000000     56.000000    947.000000   \n",
       "50%    21578.000000      0.700000     61.800000     57.000000   2400.000000   \n",
       "75%    32364.500000      1.040000     62.500000     59.000000   5311.000000   \n",
       "max    43152.000000      5.010000     79.000000     95.000000  18823.000000   \n",
       "\n",
       "                  x             y             z  \n",
       "count  43135.000000  43135.000000  43135.000000  \n",
       "mean       5.731757      5.735070      3.539962  \n",
       "std        1.119336      1.147272      0.704884  \n",
       "min        3.730000      3.680000      1.070000  \n",
       "25%        4.710000      4.720000      2.910000  \n",
       "50%        5.700000      5.710000      3.530000  \n",
       "75%        6.540000      6.540000      4.040000  \n",
       "max       10.740000     58.900000     31.800000  "
      ]
     },
     "execution_count": 9,
     "metadata": {},
     "output_type": "execute_result"
    }
   ],
   "source": [
    "train.describe()"
   ]
  },
  {
   "cell_type": "code",
   "execution_count": null,
   "id": "2152fb47",
   "metadata": {
    "papermill": {
     "duration": 0.066082,
     "end_time": "2022-04-16T21:18:59.410099",
     "exception": false,
     "start_time": "2022-04-16T21:18:59.344017",
     "status": "completed"
    },
    "tags": []
   },
   "outputs": [],
   "source": []
  },
  {
   "cell_type": "code",
   "execution_count": 10,
   "id": "fc60e07a",
   "metadata": {
    "execution": {
     "iopub.execute_input": "2022-04-16T21:18:59.510876Z",
     "iopub.status.busy": "2022-04-16T21:18:59.510051Z",
     "iopub.status.idle": "2022-04-16T21:18:59.512334Z",
     "shell.execute_reply": "2022-04-16T21:18:59.511842Z",
     "shell.execute_reply.started": "2022-04-16T21:12:37.408152Z"
    },
    "papermill": {
     "duration": 0.054342,
     "end_time": "2022-04-16T21:18:59.512441",
     "exception": false,
     "start_time": "2022-04-16T21:18:59.458099",
     "status": "completed"
    },
    "tags": []
   },
   "outputs": [],
   "source": [
    "\n",
    "train_len = len(train)"
   ]
  },
  {
   "cell_type": "code",
   "execution_count": 11,
   "id": "8225dd60",
   "metadata": {
    "execution": {
     "iopub.execute_input": "2022-04-16T21:18:59.615128Z",
     "iopub.status.busy": "2022-04-16T21:18:59.614334Z",
     "iopub.status.idle": "2022-04-16T21:19:00.077343Z",
     "shell.execute_reply": "2022-04-16T21:19:00.077768Z",
     "shell.execute_reply.started": "2022-04-16T21:12:37.418304Z"
    },
    "papermill": {
     "duration": 0.518013,
     "end_time": "2022-04-16T21:19:00.077929",
     "exception": false,
     "start_time": "2022-04-16T21:18:59.559916",
     "status": "completed"
    },
    "tags": []
   },
   "outputs": [
    {
     "name": "stderr",
     "output_type": "stream",
     "text": [
      "/opt/conda/lib/python3.7/site-packages/seaborn/distributions.py:2619: FutureWarning: `distplot` is a deprecated function and will be removed in a future version. Please adapt your code to use either `displot` (a figure-level function with similar flexibility) or `histplot` (an axes-level function for histograms).\n",
      "  warnings.warn(msg, FutureWarning)\n"
     ]
    },
    {
     "data": {
      "text/plain": [
       "<AxesSubplot:xlabel='price', ylabel='Density'>"
      ]
     },
     "execution_count": 11,
     "metadata": {},
     "output_type": "execute_result"
    },
    {
     "data": {
      "image/png": "[encoded data removed]",
      "text/plain": [
       "<Figure size 432x288 with 1 Axes>"
      ]
     },
     "metadata": {
      "needs_background": "light"
     },
     "output_type": "display_data"
    }
   ],
   "source": [
    "#train['price'] = np.log(train['price'])\n",
    "sns.distplot(train['price'])"
   ]
  },
  {
   "cell_type": "code",
   "execution_count": 12,
   "id": "d87a311f",
   "metadata": {
    "execution": {
     "iopub.execute_input": "2022-04-16T21:19:00.185881Z",
     "iopub.status.busy": "2022-04-16T21:19:00.185015Z",
     "iopub.status.idle": "2022-04-16T21:19:00.186764Z",
     "shell.execute_reply": "2022-04-16T21:19:00.187238Z",
     "shell.execute_reply.started": "2022-04-16T21:12:37.918889Z"
    },
    "papermill": {
     "duration": 0.056024,
     "end_time": "2022-04-16T21:19:00.187371",
     "exception": false,
     "start_time": "2022-04-16T21:19:00.131347",
     "status": "completed"
    },
    "tags": []
   },
   "outputs": [],
   "source": [
    "y=train['price']"
   ]
  },
  {
   "cell_type": "code",
   "execution_count": 13,
   "id": "45e7bd62",
   "metadata": {
    "execution": {
     "iopub.execute_input": "2022-04-16T21:19:00.292221Z",
     "iopub.status.busy": "2022-04-16T21:19:00.291274Z",
     "iopub.status.idle": "2022-04-16T21:19:00.309513Z",
     "shell.execute_reply": "2022-04-16T21:19:00.309104Z",
     "shell.execute_reply.started": "2022-04-16T21:12:37.925282Z"
    },
    "papermill": {
     "duration": 0.072364,
     "end_time": "2022-04-16T21:19:00.309654",
     "exception": false,
     "start_time": "2022-04-16T21:19:00.237290",
     "status": "completed"
    },
    "tags": []
   },
   "outputs": [
    {
     "data": {
      "text/html": [
       "<div>\n",
       "<style scoped>\n",
       "    .dataframe tbody tr th:only-of-type {\n",
       "        vertical-align: middle;\n",
       "    }\n",
       "\n",
       "    .dataframe tbody tr th {\n",
       "        vertical-align: top;\n",
       "    }\n",
       "\n",
       "    .dataframe thead th {\n",
       "        text-align: right;\n",
       "    }\n",
       "</style>\n",
       "<table border=\"1\" class=\"dataframe\">\n",
       "  <thead>\n",
       "    <tr style=\"text-align: right;\">\n",
       "      <th></th>\n",
       "      <th>Id</th>\n",
       "      <th>carat</th>\n",
       "      <th>cut</th>\n",
       "      <th>color</th>\n",
       "      <th>clarity</th>\n",
       "      <th>depth</th>\n",
       "      <th>table</th>\n",
       "      <th>price</th>\n",
       "      <th>x</th>\n",
       "      <th>y</th>\n",
       "      <th>z</th>\n",
       "    </tr>\n",
       "  </thead>\n",
       "  <tbody>\n",
       "    <tr>\n",
       "      <th>0</th>\n",
       "      <td>1</td>\n",
       "      <td>1.06</td>\n",
       "      <td>Ideal</td>\n",
       "      <td>I</td>\n",
       "      <td>SI2</td>\n",
       "      <td>61.8</td>\n",
       "      <td>57.0</td>\n",
       "      <td>4270.0</td>\n",
       "      <td>6.57</td>\n",
       "      <td>6.60</td>\n",
       "      <td>4.07</td>\n",
       "    </tr>\n",
       "    <tr>\n",
       "      <th>1</th>\n",
       "      <td>2</td>\n",
       "      <td>1.51</td>\n",
       "      <td>Premium</td>\n",
       "      <td>G</td>\n",
       "      <td>VVS2</td>\n",
       "      <td>60.9</td>\n",
       "      <td>58.0</td>\n",
       "      <td>15164.0</td>\n",
       "      <td>7.38</td>\n",
       "      <td>7.42</td>\n",
       "      <td>4.51</td>\n",
       "    </tr>\n",
       "    <tr>\n",
       "      <th>2</th>\n",
       "      <td>3</td>\n",
       "      <td>0.32</td>\n",
       "      <td>Ideal</td>\n",
       "      <td>F</td>\n",
       "      <td>VS2</td>\n",
       "      <td>61.3</td>\n",
       "      <td>56.0</td>\n",
       "      <td>828.0</td>\n",
       "      <td>4.43</td>\n",
       "      <td>4.41</td>\n",
       "      <td>2.71</td>\n",
       "    </tr>\n",
       "    <tr>\n",
       "      <th>3</th>\n",
       "      <td>4</td>\n",
       "      <td>0.53</td>\n",
       "      <td>Ideal</td>\n",
       "      <td>G</td>\n",
       "      <td>VS2</td>\n",
       "      <td>61.2</td>\n",
       "      <td>56.0</td>\n",
       "      <td>1577.0</td>\n",
       "      <td>5.19</td>\n",
       "      <td>5.22</td>\n",
       "      <td>3.19</td>\n",
       "    </tr>\n",
       "    <tr>\n",
       "      <th>4</th>\n",
       "      <td>5</td>\n",
       "      <td>0.70</td>\n",
       "      <td>Premium</td>\n",
       "      <td>H</td>\n",
       "      <td>VVS2</td>\n",
       "      <td>61.0</td>\n",
       "      <td>57.0</td>\n",
       "      <td>2596.0</td>\n",
       "      <td>5.76</td>\n",
       "      <td>5.72</td>\n",
       "      <td>3.50</td>\n",
       "    </tr>\n",
       "  </tbody>\n",
       "</table>\n",
       "</div>"
      ],
      "text/plain": [
       "   Id  carat      cut color clarity  depth  table    price     x     y     z\n",
       "0   1   1.06    Ideal     I     SI2   61.8   57.0   4270.0  6.57  6.60  4.07\n",
       "1   2   1.51  Premium     G    VVS2   60.9   58.0  15164.0  7.38  7.42  4.51\n",
       "2   3   0.32    Ideal     F     VS2   61.3   56.0    828.0  4.43  4.41  2.71\n",
       "3   4   0.53    Ideal     G     VS2   61.2   56.0   1577.0  5.19  5.22  3.19\n",
       "4   5   0.70  Premium     H    VVS2   61.0   57.0   2596.0  5.76  5.72  3.50"
      ]
     },
     "execution_count": 13,
     "metadata": {},
     "output_type": "execute_result"
    }
   ],
   "source": [
    "df = pd.concat([train, test],axis = 0)\n",
    "\n",
    "df.head()"
   ]
  },
  {
   "cell_type": "code",
   "execution_count": 14,
   "id": "189945e8",
   "metadata": {
    "execution": {
     "iopub.execute_input": "2022-04-16T21:19:00.417020Z",
     "iopub.status.busy": "2022-04-16T21:19:00.416055Z",
     "iopub.status.idle": "2022-04-16T21:19:00.429763Z",
     "shell.execute_reply": "2022-04-16T21:19:00.429331Z",
     "shell.execute_reply.started": "2022-04-16T21:12:37.955751Z"
    },
    "papermill": {
     "duration": 0.06974,
     "end_time": "2022-04-16T21:19:00.429886",
     "exception": false,
     "start_time": "2022-04-16T21:19:00.360146",
     "status": "completed"
    },
    "tags": []
   },
   "outputs": [
    {
     "name": "stdout",
     "output_type": "stream",
     "text": [
      "(53923, 9)\n"
     ]
    }
   ],
   "source": [
    "df=df.drop(\"Id\",axis=1)\n",
    "\n",
    "df.drop(\"price\",axis=1 ,inplace=True)\n",
    "print(df.shape)"
   ]
  },
  {
   "cell_type": "code",
   "execution_count": 15,
   "id": "3ebe1362",
   "metadata": {
    "execution": {
     "iopub.execute_input": "2022-04-16T21:19:00.545706Z",
     "iopub.status.busy": "2022-04-16T21:19:00.544954Z",
     "iopub.status.idle": "2022-04-16T21:19:00.547829Z",
     "shell.execute_reply": "2022-04-16T21:19:00.548253Z",
     "shell.execute_reply.started": "2022-04-16T21:12:37.977267Z"
    },
    "papermill": {
     "duration": 0.067545,
     "end_time": "2022-04-16T21:19:00.548406",
     "exception": false,
     "start_time": "2022-04-16T21:19:00.480861",
     "status": "completed"
    },
    "tags": []
   },
   "outputs": [
    {
     "data": {
      "text/html": [
       "<div>\n",
       "<style scoped>\n",
       "    .dataframe tbody tr th:only-of-type {\n",
       "        vertical-align: middle;\n",
       "    }\n",
       "\n",
       "    .dataframe tbody tr th {\n",
       "        vertical-align: top;\n",
       "    }\n",
       "\n",
       "    .dataframe thead th {\n",
       "        text-align: right;\n",
       "    }\n",
       "</style>\n",
       "<table border=\"1\" class=\"dataframe\">\n",
       "  <thead>\n",
       "    <tr style=\"text-align: right;\">\n",
       "      <th></th>\n",
       "      <th>carat</th>\n",
       "      <th>cut</th>\n",
       "      <th>color</th>\n",
       "      <th>clarity</th>\n",
       "      <th>depth</th>\n",
       "      <th>table</th>\n",
       "      <th>x</th>\n",
       "      <th>y</th>\n",
       "      <th>z</th>\n",
       "    </tr>\n",
       "  </thead>\n",
       "  <tbody>\n",
       "    <tr>\n",
       "      <th>10783</th>\n",
       "      <td>0.57</td>\n",
       "      <td>Ideal</td>\n",
       "      <td>H</td>\n",
       "      <td>VS1</td>\n",
       "      <td>60.9</td>\n",
       "      <td>56.0</td>\n",
       "      <td>5.34</td>\n",
       "      <td>5.36</td>\n",
       "      <td>3.26</td>\n",
       "    </tr>\n",
       "    <tr>\n",
       "      <th>10784</th>\n",
       "      <td>1.05</td>\n",
       "      <td>Ideal</td>\n",
       "      <td>G</td>\n",
       "      <td>VS2</td>\n",
       "      <td>60.8</td>\n",
       "      <td>57.0</td>\n",
       "      <td>6.65</td>\n",
       "      <td>6.58</td>\n",
       "      <td>4.02</td>\n",
       "    </tr>\n",
       "    <tr>\n",
       "      <th>10785</th>\n",
       "      <td>0.71</td>\n",
       "      <td>Ideal</td>\n",
       "      <td>E</td>\n",
       "      <td>VVS1</td>\n",
       "      <td>62.3</td>\n",
       "      <td>55.0</td>\n",
       "      <td>5.68</td>\n",
       "      <td>5.72</td>\n",
       "      <td>3.55</td>\n",
       "    </tr>\n",
       "    <tr>\n",
       "      <th>10786</th>\n",
       "      <td>1.11</td>\n",
       "      <td>Premium</td>\n",
       "      <td>E</td>\n",
       "      <td>SI2</td>\n",
       "      <td>61.0</td>\n",
       "      <td>60.0</td>\n",
       "      <td>6.68</td>\n",
       "      <td>6.66</td>\n",
       "      <td>4.07</td>\n",
       "    </tr>\n",
       "    <tr>\n",
       "      <th>10787</th>\n",
       "      <td>2.00</td>\n",
       "      <td>Premium</td>\n",
       "      <td>F</td>\n",
       "      <td>SI2</td>\n",
       "      <td>61.5</td>\n",
       "      <td>59.0</td>\n",
       "      <td>8.03</td>\n",
       "      <td>7.95</td>\n",
       "      <td>4.92</td>\n",
       "    </tr>\n",
       "  </tbody>\n",
       "</table>\n",
       "</div>"
      ],
      "text/plain": [
       "       carat      cut color clarity  depth  table     x     y     z\n",
       "10783   0.57    Ideal     H     VS1   60.9   56.0  5.34  5.36  3.26\n",
       "10784   1.05    Ideal     G     VS2   60.8   57.0  6.65  6.58  4.02\n",
       "10785   0.71    Ideal     E    VVS1   62.3   55.0  5.68  5.72  3.55\n",
       "10786   1.11  Premium     E     SI2   61.0   60.0  6.68  6.66  4.07\n",
       "10787   2.00  Premium     F     SI2   61.5   59.0  8.03  7.95  4.92"
      ]
     },
     "execution_count": 15,
     "metadata": {},
     "output_type": "execute_result"
    }
   ],
   "source": [
    "df.tail()"
   ]
  },
  {
   "cell_type": "code",
   "execution_count": 16,
   "id": "6f59fbcf",
   "metadata": {
    "execution": {
     "iopub.execute_input": "2022-04-16T21:19:00.656958Z",
     "iopub.status.busy": "2022-04-16T21:19:00.656094Z",
     "iopub.status.idle": "2022-04-16T21:19:00.658050Z",
     "shell.execute_reply": "2022-04-16T21:19:00.658478Z",
     "shell.execute_reply.started": "2022-04-16T21:12:37.996908Z"
    },
    "papermill": {
     "duration": 0.059574,
     "end_time": "2022-04-16T21:19:00.658630",
     "exception": false,
     "start_time": "2022-04-16T21:19:00.599056",
     "status": "completed"
    },
    "tags": []
   },
   "outputs": [],
   "source": [
    "df.reset_index(drop=True, inplace=True)"
   ]
  },
  {
   "cell_type": "code",
   "execution_count": 17,
   "id": "976591ec",
   "metadata": {
    "execution": {
     "iopub.execute_input": "2022-04-16T21:19:00.774750Z",
     "iopub.status.busy": "2022-04-16T21:19:00.774079Z",
     "iopub.status.idle": "2022-04-16T21:19:00.777013Z",
     "shell.execute_reply": "2022-04-16T21:19:00.777405Z",
     "shell.execute_reply.started": "2022-04-16T21:12:38.005566Z"
    },
    "papermill": {
     "duration": 0.067997,
     "end_time": "2022-04-16T21:19:00.777545",
     "exception": false,
     "start_time": "2022-04-16T21:19:00.709548",
     "status": "completed"
    },
    "tags": []
   },
   "outputs": [
    {
     "data": {
      "text/html": [
       "<div>\n",
       "<style scoped>\n",
       "    .dataframe tbody tr th:only-of-type {\n",
       "        vertical-align: middle;\n",
       "    }\n",
       "\n",
       "    .dataframe tbody tr th {\n",
       "        vertical-align: top;\n",
       "    }\n",
       "\n",
       "    .dataframe thead th {\n",
       "        text-align: right;\n",
       "    }\n",
       "</style>\n",
       "<table border=\"1\" class=\"dataframe\">\n",
       "  <thead>\n",
       "    <tr style=\"text-align: right;\">\n",
       "      <th></th>\n",
       "      <th>carat</th>\n",
       "      <th>cut</th>\n",
       "      <th>color</th>\n",
       "      <th>clarity</th>\n",
       "      <th>depth</th>\n",
       "      <th>table</th>\n",
       "      <th>x</th>\n",
       "      <th>y</th>\n",
       "      <th>z</th>\n",
       "    </tr>\n",
       "  </thead>\n",
       "  <tbody>\n",
       "    <tr>\n",
       "      <th>53918</th>\n",
       "      <td>0.57</td>\n",
       "      <td>Ideal</td>\n",
       "      <td>H</td>\n",
       "      <td>VS1</td>\n",
       "      <td>60.9</td>\n",
       "      <td>56.0</td>\n",
       "      <td>5.34</td>\n",
       "      <td>5.36</td>\n",
       "      <td>3.26</td>\n",
       "    </tr>\n",
       "    <tr>\n",
       "      <th>53919</th>\n",
       "      <td>1.05</td>\n",
       "      <td>Ideal</td>\n",
       "      <td>G</td>\n",
       "      <td>VS2</td>\n",
       "      <td>60.8</td>\n",
       "      <td>57.0</td>\n",
       "      <td>6.65</td>\n",
       "      <td>6.58</td>\n",
       "      <td>4.02</td>\n",
       "    </tr>\n",
       "    <tr>\n",
       "      <th>53920</th>\n",
       "      <td>0.71</td>\n",
       "      <td>Ideal</td>\n",
       "      <td>E</td>\n",
       "      <td>VVS1</td>\n",
       "      <td>62.3</td>\n",
       "      <td>55.0</td>\n",
       "      <td>5.68</td>\n",
       "      <td>5.72</td>\n",
       "      <td>3.55</td>\n",
       "    </tr>\n",
       "    <tr>\n",
       "      <th>53921</th>\n",
       "      <td>1.11</td>\n",
       "      <td>Premium</td>\n",
       "      <td>E</td>\n",
       "      <td>SI2</td>\n",
       "      <td>61.0</td>\n",
       "      <td>60.0</td>\n",
       "      <td>6.68</td>\n",
       "      <td>6.66</td>\n",
       "      <td>4.07</td>\n",
       "    </tr>\n",
       "    <tr>\n",
       "      <th>53922</th>\n",
       "      <td>2.00</td>\n",
       "      <td>Premium</td>\n",
       "      <td>F</td>\n",
       "      <td>SI2</td>\n",
       "      <td>61.5</td>\n",
       "      <td>59.0</td>\n",
       "      <td>8.03</td>\n",
       "      <td>7.95</td>\n",
       "      <td>4.92</td>\n",
       "    </tr>\n",
       "  </tbody>\n",
       "</table>\n",
       "</div>"
      ],
      "text/plain": [
       "       carat      cut color clarity  depth  table     x     y     z\n",
       "53918   0.57    Ideal     H     VS1   60.9   56.0  5.34  5.36  3.26\n",
       "53919   1.05    Ideal     G     VS2   60.8   57.0  6.65  6.58  4.02\n",
       "53920   0.71    Ideal     E    VVS1   62.3   55.0  5.68  5.72  3.55\n",
       "53921   1.11  Premium     E     SI2   61.0   60.0  6.68  6.66  4.07\n",
       "53922   2.00  Premium     F     SI2   61.5   59.0  8.03  7.95  4.92"
      ]
     },
     "execution_count": 17,
     "metadata": {},
     "output_type": "execute_result"
    }
   ],
   "source": [
    "df.tail()"
   ]
  },
  {
   "cell_type": "code",
   "execution_count": 18,
   "id": "2b17c2e9",
   "metadata": {
    "execution": {
     "iopub.execute_input": "2022-04-16T21:19:00.892011Z",
     "iopub.status.busy": "2022-04-16T21:19:00.891237Z",
     "iopub.status.idle": "2022-04-16T21:19:00.918802Z",
     "shell.execute_reply": "2022-04-16T21:19:00.919400Z",
     "shell.execute_reply.started": "2022-04-16T21:12:38.030205Z"
    },
    "papermill": {
     "duration": 0.089774,
     "end_time": "2022-04-16T21:19:00.919631",
     "exception": false,
     "start_time": "2022-04-16T21:19:00.829857",
     "status": "completed"
    },
    "tags": []
   },
   "outputs": [
    {
     "name": "stdout",
     "output_type": "stream",
     "text": [
      "<class 'pandas.core.frame.DataFrame'>\n",
      "RangeIndex: 53923 entries, 0 to 53922\n",
      "Data columns (total 9 columns):\n",
      " #   Column   Non-Null Count  Dtype  \n",
      "---  ------   --------------  -----  \n",
      " 0   carat    53923 non-null  float64\n",
      " 1   cut      53923 non-null  object \n",
      " 2   color    53923 non-null  object \n",
      " 3   clarity  53923 non-null  object \n",
      " 4   depth    53923 non-null  float64\n",
      " 5   table    53923 non-null  float64\n",
      " 6   x        53923 non-null  float64\n",
      " 7   y        53923 non-null  float64\n",
      " 8   z        53923 non-null  float64\n",
      "dtypes: float64(6), object(3)\n",
      "memory usage: 3.7+ MB\n"
     ]
    }
   ],
   "source": [
    "df.info()"
   ]
  },
  {
   "cell_type": "code",
   "execution_count": 19,
   "id": "e66479cc",
   "metadata": {
    "execution": {
     "iopub.execute_input": "2022-04-16T21:19:01.033278Z",
     "iopub.status.busy": "2022-04-16T21:19:01.032360Z",
     "iopub.status.idle": "2022-04-16T21:19:01.061613Z",
     "shell.execute_reply": "2022-04-16T21:19:01.062042Z",
     "shell.execute_reply.started": "2022-04-16T21:12:38.065933Z"
    },
    "papermill": {
     "duration": 0.088509,
     "end_time": "2022-04-16T21:19:01.062183",
     "exception": false,
     "start_time": "2022-04-16T21:19:00.973674",
     "status": "completed"
    },
    "tags": []
   },
   "outputs": [
    {
     "data": {
      "text/html": [
       "<div>\n",
       "<style scoped>\n",
       "    .dataframe tbody tr th:only-of-type {\n",
       "        vertical-align: middle;\n",
       "    }\n",
       "\n",
       "    .dataframe tbody tr th {\n",
       "        vertical-align: top;\n",
       "    }\n",
       "\n",
       "    .dataframe thead th {\n",
       "        text-align: right;\n",
       "    }\n",
       "</style>\n",
       "<table border=\"1\" class=\"dataframe\">\n",
       "  <thead>\n",
       "    <tr style=\"text-align: right;\">\n",
       "      <th></th>\n",
       "      <th>carat</th>\n",
       "      <th>depth</th>\n",
       "      <th>table</th>\n",
       "      <th>x</th>\n",
       "      <th>y</th>\n",
       "      <th>z</th>\n",
       "    </tr>\n",
       "  </thead>\n",
       "  <tbody>\n",
       "    <tr>\n",
       "      <th>count</th>\n",
       "      <td>53923.000000</td>\n",
       "      <td>53923.000000</td>\n",
       "      <td>53923.000000</td>\n",
       "      <td>53923.000000</td>\n",
       "      <td>53923.000000</td>\n",
       "      <td>53923.000000</td>\n",
       "    </tr>\n",
       "    <tr>\n",
       "      <th>mean</th>\n",
       "      <td>0.797718</td>\n",
       "      <td>61.749573</td>\n",
       "      <td>57.456846</td>\n",
       "      <td>5.731308</td>\n",
       "      <td>5.734568</td>\n",
       "      <td>3.539849</td>\n",
       "    </tr>\n",
       "    <tr>\n",
       "      <th>std</th>\n",
       "      <td>0.473797</td>\n",
       "      <td>1.432329</td>\n",
       "      <td>2.234088</td>\n",
       "      <td>1.120208</td>\n",
       "      <td>1.140896</td>\n",
       "      <td>0.703007</td>\n",
       "    </tr>\n",
       "    <tr>\n",
       "      <th>min</th>\n",
       "      <td>0.200000</td>\n",
       "      <td>43.000000</td>\n",
       "      <td>43.000000</td>\n",
       "      <td>0.000000</td>\n",
       "      <td>0.000000</td>\n",
       "      <td>0.000000</td>\n",
       "    </tr>\n",
       "    <tr>\n",
       "      <th>25%</th>\n",
       "      <td>0.400000</td>\n",
       "      <td>61.000000</td>\n",
       "      <td>56.000000</td>\n",
       "      <td>4.710000</td>\n",
       "      <td>4.720000</td>\n",
       "      <td>2.910000</td>\n",
       "    </tr>\n",
       "    <tr>\n",
       "      <th>50%</th>\n",
       "      <td>0.700000</td>\n",
       "      <td>61.800000</td>\n",
       "      <td>57.000000</td>\n",
       "      <td>5.700000</td>\n",
       "      <td>5.710000</td>\n",
       "      <td>3.530000</td>\n",
       "    </tr>\n",
       "    <tr>\n",
       "      <th>75%</th>\n",
       "      <td>1.040000</td>\n",
       "      <td>62.500000</td>\n",
       "      <td>59.000000</td>\n",
       "      <td>6.540000</td>\n",
       "      <td>6.540000</td>\n",
       "      <td>4.040000</td>\n",
       "    </tr>\n",
       "    <tr>\n",
       "      <th>max</th>\n",
       "      <td>5.010000</td>\n",
       "      <td>79.000000</td>\n",
       "      <td>95.000000</td>\n",
       "      <td>10.740000</td>\n",
       "      <td>58.900000</td>\n",
       "      <td>31.800000</td>\n",
       "    </tr>\n",
       "  </tbody>\n",
       "</table>\n",
       "</div>"
      ],
      "text/plain": [
       "              carat         depth         table             x             y  \\\n",
       "count  53923.000000  53923.000000  53923.000000  53923.000000  53923.000000   \n",
       "mean       0.797718     61.749573     57.456846      5.731308      5.734568   \n",
       "std        0.473797      1.432329      2.234088      1.120208      1.140896   \n",
       "min        0.200000     43.000000     43.000000      0.000000      0.000000   \n",
       "25%        0.400000     61.000000     56.000000      4.710000      4.720000   \n",
       "50%        0.700000     61.800000     57.000000      5.700000      5.710000   \n",
       "75%        1.040000     62.500000     59.000000      6.540000      6.540000   \n",
       "max        5.010000     79.000000     95.000000     10.740000     58.900000   \n",
       "\n",
       "                  z  \n",
       "count  53923.000000  \n",
       "mean       3.539849  \n",
       "std        0.703007  \n",
       "min        0.000000  \n",
       "25%        2.910000  \n",
       "50%        3.530000  \n",
       "75%        4.040000  \n",
       "max       31.800000  "
      ]
     },
     "execution_count": 19,
     "metadata": {},
     "output_type": "execute_result"
    }
   ],
   "source": [
    "\n",
    "df.describe()"
   ]
  },
  {
   "cell_type": "code",
   "execution_count": 20,
   "id": "e5a2717d",
   "metadata": {
    "execution": {
     "iopub.execute_input": "2022-04-16T21:19:01.172558Z",
     "iopub.status.busy": "2022-04-16T21:19:01.171845Z",
     "iopub.status.idle": "2022-04-16T21:19:01.192852Z",
     "shell.execute_reply": "2022-04-16T21:19:01.192379Z",
     "shell.execute_reply.started": "2022-04-16T21:12:38.109514Z"
    },
    "papermill": {
     "duration": 0.077386,
     "end_time": "2022-04-16T21:19:01.192967",
     "exception": false,
     "start_time": "2022-04-16T21:19:01.115581",
     "status": "completed"
    },
    "tags": []
   },
   "outputs": [
    {
     "data": {
      "text/plain": [
       "carat      0\n",
       "cut        0\n",
       "color      0\n",
       "clarity    0\n",
       "depth      0\n",
       "table      0\n",
       "x          0\n",
       "y          0\n",
       "z          0\n",
       "dtype: int64"
      ]
     },
     "execution_count": 20,
     "metadata": {},
     "output_type": "execute_result"
    }
   ],
   "source": [
    "df.isnull().sum()"
   ]
  },
  {
   "cell_type": "code",
   "execution_count": 21,
   "id": "7aaa0d58",
   "metadata": {
    "execution": {
     "iopub.execute_input": "2022-04-16T21:19:01.306299Z",
     "iopub.status.busy": "2022-04-16T21:19:01.305680Z",
     "iopub.status.idle": "2022-04-16T21:19:01.308226Z",
     "shell.execute_reply": "2022-04-16T21:19:01.308637Z",
     "shell.execute_reply.started": "2022-04-16T21:12:38.139415Z"
    },
    "papermill": {
     "duration": 0.062996,
     "end_time": "2022-04-16T21:19:01.308766",
     "exception": false,
     "start_time": "2022-04-16T21:19:01.245770",
     "status": "completed"
    },
    "tags": []
   },
   "outputs": [
    {
     "data": {
      "text/plain": [
       "['cut', 'color', 'clarity']"
      ]
     },
     "execution_count": 21,
     "metadata": {},
     "output_type": "execute_result"
    }
   ],
   "source": [
    "ca_col =[]\n",
    "for x in df.dtypes.index:\n",
    "    if df.dtypes[x] == 'object':\n",
    "        ca_col.append(x)\n",
    "\n",
    "ca_col   "
   ]
  },
  {
   "cell_type": "code",
   "execution_count": 22,
   "id": "bc7219c0",
   "metadata": {
    "execution": {
     "iopub.execute_input": "2022-04-16T21:19:01.421862Z",
     "iopub.status.busy": "2022-04-16T21:19:01.419502Z",
     "iopub.status.idle": "2022-04-16T21:19:01.424516Z",
     "shell.execute_reply": "2022-04-16T21:19:01.424962Z",
     "shell.execute_reply.started": "2022-04-16T21:12:38.150886Z"
    },
    "papermill": {
     "duration": 0.062627,
     "end_time": "2022-04-16T21:19:01.425094",
     "exception": false,
     "start_time": "2022-04-16T21:19:01.362467",
     "status": "completed"
    },
    "tags": []
   },
   "outputs": [
    {
     "data": {
      "text/plain": [
       "['carat', 'depth', 'table', 'x', 'y', 'z']"
      ]
     },
     "execution_count": 22,
     "metadata": {},
     "output_type": "execute_result"
    }
   ],
   "source": [
    "n_col =[]\n",
    "for x in df.dtypes.index:\n",
    "    if df.dtypes[x] == 'float64':\n",
    "        n_col.append(x)\n",
    "\n",
    "n_col   "
   ]
  },
  {
   "cell_type": "code",
   "execution_count": 23,
   "id": "65c877c3",
   "metadata": {
    "execution": {
     "iopub.execute_input": "2022-04-16T21:19:01.533830Z",
     "iopub.status.busy": "2022-04-16T21:19:01.533062Z",
     "iopub.status.idle": "2022-04-16T21:19:01.559451Z",
     "shell.execute_reply": "2022-04-16T21:19:01.558887Z",
     "shell.execute_reply.started": "2022-04-16T21:12:38.167905Z"
    },
    "papermill": {
     "duration": 0.081414,
     "end_time": "2022-04-16T21:19:01.559606",
     "exception": false,
     "start_time": "2022-04-16T21:19:01.478192",
     "status": "completed"
    },
    "tags": []
   },
   "outputs": [
    {
     "name": "stdout",
     "output_type": "stream",
     "text": [
      "cut\n",
      "Ideal        21549\n",
      "Premium      13781\n",
      "Very Good    12081\n",
      "Good          4903\n",
      "Fair          1609\n",
      "Name: cut, dtype: int64\n",
      "\n",
      "---------------------------------------\n",
      "\n",
      "color\n",
      "G    11285\n",
      "E     9797\n",
      "F     9539\n",
      "H     8298\n",
      "D     6775\n",
      "I     5421\n",
      "J     2808\n",
      "Name: color, dtype: int64\n",
      "\n",
      "---------------------------------------\n",
      "\n",
      "clarity\n",
      "SI1     13063\n",
      "VS2     12255\n",
      "SI2      9186\n",
      "VS1      8170\n",
      "VVS2     5066\n",
      "VVS1     3655\n",
      "IF       1790\n",
      "I1        738\n",
      "Name: clarity, dtype: int64\n",
      "\n",
      "---------------------------------------\n",
      "\n"
     ]
    }
   ],
   "source": [
    "for col in ca_col:\n",
    "    print (col)\n",
    "    print(df[col].value_counts())\n",
    "    print(\"\\n---------------------------------------\\n\")"
   ]
  },
  {
   "cell_type": "code",
   "execution_count": 24,
   "id": "7f9bfa73",
   "metadata": {
    "execution": {
     "iopub.execute_input": "2022-04-16T21:19:01.671805Z",
     "iopub.status.busy": "2022-04-16T21:19:01.671050Z",
     "iopub.status.idle": "2022-04-16T21:19:01.890259Z",
     "shell.execute_reply": "2022-04-16T21:19:01.891312Z",
     "shell.execute_reply.started": "2022-04-16T21:12:38.202529Z"
    },
    "papermill": {
     "duration": 0.277699,
     "end_time": "2022-04-16T21:19:01.891587",
     "exception": false,
     "start_time": "2022-04-16T21:19:01.613888",
     "status": "completed"
    },
    "tags": []
   },
   "outputs": [
    {
     "name": "stderr",
     "output_type": "stream",
     "text": [
      "/opt/conda/lib/python3.7/site-packages/seaborn/_decorators.py:43: FutureWarning: Pass the following variable as a keyword arg: x. From version 0.12, the only valid positional argument will be `data`, and passing other arguments without an explicit keyword will result in an error or misinterpretation.\n",
      "  FutureWarning\n"
     ]
    },
    {
     "data": {
      "text/plain": [
       "<AxesSubplot:xlabel='cut', ylabel='count'>"
      ]
     },
     "execution_count": 24,
     "metadata": {},
     "output_type": "execute_result"
    },
    {
     "data": {
      "image/png": "[encoded data removed]",
      "text/plain": [
       "<Figure size 432x288 with 1 Axes>"
      ]
     },
     "metadata": {
      "needs_background": "light"
     },
     "output_type": "display_data"
    }
   ],
   "source": [
    "sns.countplot(df['cut'])"
   ]
  },
  {
   "cell_type": "code",
   "execution_count": 25,
   "id": "40c0d1cf",
   "metadata": {
    "execution": {
     "iopub.execute_input": "2022-04-16T21:19:02.049973Z",
     "iopub.status.busy": "2022-04-16T21:19:02.049192Z",
     "iopub.status.idle": "2022-04-16T21:19:02.263205Z",
     "shell.execute_reply": "2022-04-16T21:19:02.263630Z",
     "shell.execute_reply.started": "2022-04-16T21:12:38.451446Z"
    },
    "papermill": {
     "duration": 0.308214,
     "end_time": "2022-04-16T21:19:02.263844",
     "exception": false,
     "start_time": "2022-04-16T21:19:01.955630",
     "status": "completed"
    },
    "tags": []
   },
   "outputs": [
    {
     "name": "stderr",
     "output_type": "stream",
     "text": [
      "/opt/conda/lib/python3.7/site-packages/seaborn/_decorators.py:43: FutureWarning: Pass the following variable as a keyword arg: x. From version 0.12, the only valid positional argument will be `data`, and passing other arguments without an explicit keyword will result in an error or misinterpretation.\n",
      "  FutureWarning\n"
     ]
    },
    {
     "data": {
      "text/plain": [
       "<AxesSubplot:xlabel='color', ylabel='count'>"
      ]
     },
     "execution_count": 25,
     "metadata": {},
     "output_type": "execute_result"
    },
    {
     "data": {
      "image/png": "[encoded data removed]",
      "text/plain": [
       "<Figure size 432x288 with 1 Axes>"
      ]
     },
     "metadata": {
      "needs_background": "light"
     },
     "output_type": "display_data"
    }
   ],
   "source": [
    "sns.countplot(df['color'])"
   ]
  },
  {
   "cell_type": "code",
   "execution_count": 26,
   "id": "55fd3b65",
   "metadata": {
    "execution": {
     "iopub.execute_input": "2022-04-16T21:19:02.412785Z",
     "iopub.status.busy": "2022-04-16T21:19:02.412053Z",
     "iopub.status.idle": "2022-04-16T21:19:02.625775Z",
     "shell.execute_reply": "2022-04-16T21:19:02.625278Z",
     "shell.execute_reply.started": "2022-04-16T21:12:38.699995Z"
    },
    "papermill": {
     "duration": 0.304412,
     "end_time": "2022-04-16T21:19:02.625922",
     "exception": false,
     "start_time": "2022-04-16T21:19:02.321510",
     "status": "completed"
    },
    "tags": []
   },
   "outputs": [
    {
     "name": "stderr",
     "output_type": "stream",
     "text": [
      "/opt/conda/lib/python3.7/site-packages/seaborn/_decorators.py:43: FutureWarning: Pass the following variable as a keyword arg: x. From version 0.12, the only valid positional argument will be `data`, and passing other arguments without an explicit keyword will result in an error or misinterpretation.\n",
      "  FutureWarning\n"
     ]
    },
    {
     "data": {
      "text/plain": [
       "<AxesSubplot:xlabel='clarity', ylabel='count'>"
      ]
     },
     "execution_count": 26,
     "metadata": {},
     "output_type": "execute_result"
    },
    {
     "data": {
      "image/png": "[encoded data removed]",
      "text/plain": [
       "<Figure size 432x288 with 1 Axes>"
      ]
     },
     "metadata": {
      "needs_background": "light"
     },
     "output_type": "display_data"
    }
   ],
   "source": [
    "sns.countplot(df['clarity'])"
   ]
  },
  {
   "cell_type": "code",
   "execution_count": 27,
   "id": "dd170e9a",
   "metadata": {
    "execution": {
     "iopub.execute_input": "2022-04-16T21:19:02.762534Z",
     "iopub.status.busy": "2022-04-16T21:19:02.757993Z",
     "iopub.status.idle": "2022-04-16T21:19:05.907990Z",
     "shell.execute_reply": "2022-04-16T21:19:05.908427Z",
     "shell.execute_reply.started": "2022-04-16T21:12:38.962144Z"
    },
    "papermill": {
     "duration": 3.223612,
     "end_time": "2022-04-16T21:19:05.908613",
     "exception": false,
     "start_time": "2022-04-16T21:19:02.685001",
     "status": "completed"
    },
    "tags": []
   },
   "outputs": [
    {
     "name": "stderr",
     "output_type": "stream",
     "text": [
      "/opt/conda/lib/python3.7/site-packages/seaborn/distributions.py:2619: FutureWarning: `distplot` is a deprecated function and will be removed in a future version. Please adapt your code to use either `displot` (a figure-level function with similar flexibility) or `histplot` (an axes-level function for histograms).\n",
      "  warnings.warn(msg, FutureWarning)\n",
      "/opt/conda/lib/python3.7/site-packages/seaborn/distributions.py:2619: FutureWarning: `distplot` is a deprecated function and will be removed in a future version. Please adapt your code to use either `displot` (a figure-level function with similar flexibility) or `histplot` (an axes-level function for histograms).\n",
      "  warnings.warn(msg, FutureWarning)\n",
      "/opt/conda/lib/python3.7/site-packages/seaborn/distributions.py:2619: FutureWarning: `distplot` is a deprecated function and will be removed in a future version. Please adapt your code to use either `displot` (a figure-level function with similar flexibility) or `histplot` (an axes-level function for histograms).\n",
      "  warnings.warn(msg, FutureWarning)\n",
      "/opt/conda/lib/python3.7/site-packages/seaborn/distributions.py:2619: FutureWarning: `distplot` is a deprecated function and will be removed in a future version. Please adapt your code to use either `displot` (a figure-level function with similar flexibility) or `histplot` (an axes-level function for histograms).\n",
      "  warnings.warn(msg, FutureWarning)\n",
      "/opt/conda/lib/python3.7/site-packages/seaborn/distributions.py:2619: FutureWarning: `distplot` is a deprecated function and will be removed in a future version. Please adapt your code to use either `displot` (a figure-level function with similar flexibility) or `histplot` (an axes-level function for histograms).\n",
      "  warnings.warn(msg, FutureWarning)\n",
      "/opt/conda/lib/python3.7/site-packages/seaborn/distributions.py:2619: FutureWarning: `distplot` is a deprecated function and will be removed in a future version. Please adapt your code to use either `displot` (a figure-level function with similar flexibility) or `histplot` (an axes-level function for histograms).\n",
      "  warnings.warn(msg, FutureWarning)\n"
     ]
    },
    {
     "data": {
      "image/png": "[encoded data removed]",
      "text/plain": [
       "<Figure size 432x288 with 1 Axes>"
      ]
     },
     "metadata": {
      "needs_background": "light"
     },
     "output_type": "display_data"
    },
    {
     "data": {
      "image/png": "[encoded data removed]",
      "text/plain": [
       "<Figure size 432x288 with 1 Axes>"
      ]
     },
     "metadata": {
      "needs_background": "light"
     },
     "output_type": "display_data"
    },
    {
     "data": {
      "image/png": "[encoded data removed]",
      "text/plain": [
       "<Figure size 432x288 with 1 Axes>"
      ]
     },
     "metadata": {
      "needs_background": "light"
     },
     "output_type": "display_data"
    },
    {
     "data": {
      "image/png": "[encoded data removed]",
      "text/plain": [
       "<Figure size 432x288 with 1 Axes>"
      ]
     },
     "metadata": {
      "needs_background": "light"
     },
     "output_type": "display_data"
    },
    {
     "data": {
      "image/png": "[encoded data removed]",
      "text/plain": [
       "<Figure size 432x288 with 1 Axes>"
      ]
     },
     "metadata": {
      "needs_background": "light"
     },
     "output_type": "display_data"
    },
    {
     "data": {
      "image/png": "[encoded data removed]",
      "text/plain": [
       "<Figure size 432x288 with 1 Axes>"
      ]
     },
     "metadata": {
      "needs_background": "light"
     },
     "output_type": "display_data"
    }
   ],
   "source": [
    "for x in n_col:\n",
    "    plt.figure()\n",
    "    sns.distplot(df[x])"
   ]
  },
  {
   "cell_type": "code",
   "execution_count": 28,
   "id": "0b79151d",
   "metadata": {
    "execution": {
     "iopub.execute_input": "2022-04-16T21:19:06.054246Z",
     "iopub.status.busy": "2022-04-16T21:19:06.053686Z",
     "iopub.status.idle": "2022-04-16T21:19:06.622680Z",
     "shell.execute_reply": "2022-04-16T21:19:06.622242Z",
     "shell.execute_reply.started": "2022-04-16T21:12:42.322840Z"
    },
    "papermill": {
     "duration": 0.643088,
     "end_time": "2022-04-16T21:19:06.622807",
     "exception": false,
     "start_time": "2022-04-16T21:19:05.979719",
     "status": "completed"
    },
    "tags": []
   },
   "outputs": [
    {
     "data": {
      "text/plain": [
       "<AxesSubplot:>"
      ]
     },
     "execution_count": 28,
     "metadata": {},
     "output_type": "execute_result"
    },
    {
     "data": {
      "image/png": "[encoded data removed]",
      "text/plain": [
       "<Figure size 1008x576 with 2 Axes>"
      ]
     },
     "metadata": {
      "needs_background": "light"
     },
     "output_type": "display_data"
    }
   ],
   "source": [
    "# train contain the price column , we need it to see the relation between price and the other columns\n",
    "\n",
    "corr = train.corr()\n",
    "plt.figure(figsize = (14,8))\n",
    "sns.heatmap(corr, annot = True , cmap = \"BuPu\")"
   ]
  },
  {
   "cell_type": "code",
   "execution_count": null,
   "id": "36f921fe",
   "metadata": {
    "papermill": {
     "duration": 0.065681,
     "end_time": "2022-04-16T21:19:06.755370",
     "exception": false,
     "start_time": "2022-04-16T21:19:06.689689",
     "status": "completed"
    },
    "tags": []
   },
   "outputs": [],
   "source": []
  },
  {
   "cell_type": "code",
   "execution_count": 29,
   "id": "9fd23e94",
   "metadata": {
    "execution": {
     "iopub.execute_input": "2022-04-16T21:19:06.903732Z",
     "iopub.status.busy": "2022-04-16T21:19:06.903172Z",
     "iopub.status.idle": "2022-04-16T21:19:06.906392Z",
     "shell.execute_reply": "2022-04-16T21:19:06.906956Z",
     "shell.execute_reply.started": "2022-04-16T21:12:42.906347Z"
    },
    "papermill": {
     "duration": 0.079092,
     "end_time": "2022-04-16T21:19:06.907102",
     "exception": false,
     "start_time": "2022-04-16T21:19:06.828010",
     "status": "completed"
    },
    "tags": []
   },
   "outputs": [],
   "source": [
    "train.drop(['x','y','z'],axis=1,inplace=True)\n",
    "df.drop(['x','y','z'],axis=1,inplace=True)"
   ]
  },
  {
   "cell_type": "code",
   "execution_count": 30,
   "id": "e6d92485",
   "metadata": {
    "execution": {
     "iopub.execute_input": "2022-04-16T21:19:07.043725Z",
     "iopub.status.busy": "2022-04-16T21:19:07.042921Z",
     "iopub.status.idle": "2022-04-16T21:19:07.342171Z",
     "shell.execute_reply": "2022-04-16T21:19:07.342580Z",
     "shell.execute_reply.started": "2022-04-16T21:12:42.917024Z"
    },
    "papermill": {
     "duration": 0.36929,
     "end_time": "2022-04-16T21:19:07.342740",
     "exception": false,
     "start_time": "2022-04-16T21:19:06.973450",
     "status": "completed"
    },
    "tags": []
   },
   "outputs": [
    {
     "data": {
      "text/plain": [
       "<AxesSubplot:>"
      ]
     },
     "execution_count": 30,
     "metadata": {},
     "output_type": "execute_result"
    },
    {
     "data": {
      "image/png": "[encoded data removed]",
      "text/plain": [
       "<Figure size 1008x576 with 2 Axes>"
      ]
     },
     "metadata": {
      "needs_background": "light"
     },
     "output_type": "display_data"
    }
   ],
   "source": [
    "corr = train.corr()\n",
    "plt.figure(figsize = (14,8))\n",
    "sns.heatmap(corr, annot = True , cmap = \"BuPu\")"
   ]
  },
  {
   "cell_type": "code",
   "execution_count": 31,
   "id": "62500141",
   "metadata": {
    "execution": {
     "iopub.execute_input": "2022-04-16T21:19:07.498134Z",
     "iopub.status.busy": "2022-04-16T21:19:07.497439Z",
     "iopub.status.idle": "2022-04-16T21:19:07.500252Z",
     "shell.execute_reply": "2022-04-16T21:19:07.500706Z",
     "shell.execute_reply.started": "2022-04-16T21:12:43.249906Z"
    },
    "papermill": {
     "duration": 0.088162,
     "end_time": "2022-04-16T21:19:07.500847",
     "exception": false,
     "start_time": "2022-04-16T21:19:07.412685",
     "status": "completed"
    },
    "tags": []
   },
   "outputs": [
    {
     "data": {
      "text/html": [
       "<div>\n",
       "<style scoped>\n",
       "    .dataframe tbody tr th:only-of-type {\n",
       "        vertical-align: middle;\n",
       "    }\n",
       "\n",
       "    .dataframe tbody tr th {\n",
       "        vertical-align: top;\n",
       "    }\n",
       "\n",
       "    .dataframe thead th {\n",
       "        text-align: right;\n",
       "    }\n",
       "</style>\n",
       "<table border=\"1\" class=\"dataframe\">\n",
       "  <thead>\n",
       "    <tr style=\"text-align: right;\">\n",
       "      <th></th>\n",
       "      <th>carat</th>\n",
       "      <th>cut</th>\n",
       "      <th>color</th>\n",
       "      <th>clarity</th>\n",
       "      <th>depth</th>\n",
       "      <th>table</th>\n",
       "    </tr>\n",
       "  </thead>\n",
       "  <tbody>\n",
       "    <tr>\n",
       "      <th>0</th>\n",
       "      <td>1.06</td>\n",
       "      <td>Ideal</td>\n",
       "      <td>I</td>\n",
       "      <td>SI2</td>\n",
       "      <td>61.8</td>\n",
       "      <td>57.0</td>\n",
       "    </tr>\n",
       "    <tr>\n",
       "      <th>1</th>\n",
       "      <td>1.51</td>\n",
       "      <td>Premium</td>\n",
       "      <td>G</td>\n",
       "      <td>VVS2</td>\n",
       "      <td>60.9</td>\n",
       "      <td>58.0</td>\n",
       "    </tr>\n",
       "    <tr>\n",
       "      <th>2</th>\n",
       "      <td>0.32</td>\n",
       "      <td>Ideal</td>\n",
       "      <td>F</td>\n",
       "      <td>VS2</td>\n",
       "      <td>61.3</td>\n",
       "      <td>56.0</td>\n",
       "    </tr>\n",
       "    <tr>\n",
       "      <th>3</th>\n",
       "      <td>0.53</td>\n",
       "      <td>Ideal</td>\n",
       "      <td>G</td>\n",
       "      <td>VS2</td>\n",
       "      <td>61.2</td>\n",
       "      <td>56.0</td>\n",
       "    </tr>\n",
       "    <tr>\n",
       "      <th>4</th>\n",
       "      <td>0.70</td>\n",
       "      <td>Premium</td>\n",
       "      <td>H</td>\n",
       "      <td>VVS2</td>\n",
       "      <td>61.0</td>\n",
       "      <td>57.0</td>\n",
       "    </tr>\n",
       "  </tbody>\n",
       "</table>\n",
       "</div>"
      ],
      "text/plain": [
       "   carat      cut color clarity  depth  table\n",
       "0   1.06    Ideal     I     SI2   61.8   57.0\n",
       "1   1.51  Premium     G    VVS2   60.9   58.0\n",
       "2   0.32    Ideal     F     VS2   61.3   56.0\n",
       "3   0.53    Ideal     G     VS2   61.2   56.0\n",
       "4   0.70  Premium     H    VVS2   61.0   57.0"
      ]
     },
     "execution_count": 31,
     "metadata": {},
     "output_type": "execute_result"
    }
   ],
   "source": [
    "df.head()"
   ]
  },
  {
   "cell_type": "code",
   "execution_count": 32,
   "id": "c9434aa9",
   "metadata": {
    "execution": {
     "iopub.execute_input": "2022-04-16T21:19:07.654738Z",
     "iopub.status.busy": "2022-04-16T21:19:07.648909Z",
     "iopub.status.idle": "2022-04-16T21:19:07.688684Z",
     "shell.execute_reply": "2022-04-16T21:19:07.688127Z",
     "shell.execute_reply.started": "2022-04-16T21:12:43.264877Z"
    },
    "papermill": {
     "duration": 0.115897,
     "end_time": "2022-04-16T21:19:07.688797",
     "exception": false,
     "start_time": "2022-04-16T21:19:07.572900",
     "status": "completed"
    },
    "tags": []
   },
   "outputs": [],
   "source": [
    "df.cut=df.cut.replace(['Fair','Good','Very Good','Premium','Ideal'],[1,2,3,4,5])   "
   ]
  },
  {
   "cell_type": "code",
   "execution_count": 33,
   "id": "c8633977",
   "metadata": {
    "execution": {
     "iopub.execute_input": "2022-04-16T21:19:07.843121Z",
     "iopub.status.busy": "2022-04-16T21:19:07.842376Z",
     "iopub.status.idle": "2022-04-16T21:19:07.883495Z",
     "shell.execute_reply": "2022-04-16T21:19:07.883055Z",
     "shell.execute_reply.started": "2022-04-16T21:12:43.309140Z"
    },
    "papermill": {
     "duration": 0.123105,
     "end_time": "2022-04-16T21:19:07.883627",
     "exception": false,
     "start_time": "2022-04-16T21:19:07.760522",
     "status": "completed"
    },
    "tags": []
   },
   "outputs": [],
   "source": [
    "df.clarity=df.clarity.replace(['I1', 'SI2', 'SI1','VS2','VS1', 'VVS2','VVS1','IF'],[1,2,3,4,5,6,7,8]) "
   ]
  },
  {
   "cell_type": "code",
   "execution_count": 34,
   "id": "b678e4dc",
   "metadata": {
    "execution": {
     "iopub.execute_input": "2022-04-16T21:19:08.025311Z",
     "iopub.status.busy": "2022-04-16T21:19:08.024523Z",
     "iopub.status.idle": "2022-04-16T21:19:08.186867Z",
     "shell.execute_reply": "2022-04-16T21:19:08.186317Z",
     "shell.execute_reply.started": "2022-04-16T21:12:43.359790Z"
    },
    "papermill": {
     "duration": 0.235217,
     "end_time": "2022-04-16T21:19:08.186997",
     "exception": false,
     "start_time": "2022-04-16T21:19:07.951780",
     "status": "completed"
    },
    "tags": []
   },
   "outputs": [
    {
     "name": "stderr",
     "output_type": "stream",
     "text": [
      "/opt/conda/lib/python3.7/site-packages/sklearn/utils/deprecation.py:87: FutureWarning: Function get_feature_names is deprecated; get_feature_names is deprecated in 1.0 and will be removed in 1.2. Please use get_feature_names_out instead.\n",
      "  warnings.warn(msg, category=FutureWarning)\n"
     ]
    },
    {
     "data": {
      "text/html": [
       "<div>\n",
       "<style scoped>\n",
       "    .dataframe tbody tr th:only-of-type {\n",
       "        vertical-align: middle;\n",
       "    }\n",
       "\n",
       "    .dataframe tbody tr th {\n",
       "        vertical-align: top;\n",
       "    }\n",
       "\n",
       "    .dataframe thead th {\n",
       "        text-align: right;\n",
       "    }\n",
       "</style>\n",
       "<table border=\"1\" class=\"dataframe\">\n",
       "  <thead>\n",
       "    <tr style=\"text-align: right;\">\n",
       "      <th></th>\n",
       "      <th>encoder__x0_E</th>\n",
       "      <th>encoder__x0_F</th>\n",
       "      <th>encoder__x0_G</th>\n",
       "      <th>encoder__x0_H</th>\n",
       "      <th>encoder__x0_I</th>\n",
       "      <th>encoder__x0_J</th>\n",
       "      <th>carat</th>\n",
       "      <th>cut</th>\n",
       "      <th>clarity</th>\n",
       "      <th>depth</th>\n",
       "      <th>table</th>\n",
       "    </tr>\n",
       "  </thead>\n",
       "  <tbody>\n",
       "    <tr>\n",
       "      <th>0</th>\n",
       "      <td>0.0</td>\n",
       "      <td>0.0</td>\n",
       "      <td>0.0</td>\n",
       "      <td>0.0</td>\n",
       "      <td>1.0</td>\n",
       "      <td>0.0</td>\n",
       "      <td>1.06</td>\n",
       "      <td>5.0</td>\n",
       "      <td>2.0</td>\n",
       "      <td>61.8</td>\n",
       "      <td>57.0</td>\n",
       "    </tr>\n",
       "    <tr>\n",
       "      <th>1</th>\n",
       "      <td>0.0</td>\n",
       "      <td>0.0</td>\n",
       "      <td>1.0</td>\n",
       "      <td>0.0</td>\n",
       "      <td>0.0</td>\n",
       "      <td>0.0</td>\n",
       "      <td>1.51</td>\n",
       "      <td>4.0</td>\n",
       "      <td>6.0</td>\n",
       "      <td>60.9</td>\n",
       "      <td>58.0</td>\n",
       "    </tr>\n",
       "  </tbody>\n",
       "</table>\n",
       "</div>"
      ],
      "text/plain": [
       "   encoder__x0_E  encoder__x0_F  encoder__x0_G  encoder__x0_H  encoder__x0_I  \\\n",
       "0            0.0            0.0            0.0            0.0            1.0   \n",
       "1            0.0            0.0            1.0            0.0            0.0   \n",
       "\n",
       "   encoder__x0_J  carat  cut  clarity  depth  table  \n",
       "0            0.0   1.06  5.0      2.0   61.8   57.0  \n",
       "1            0.0   1.51  4.0      6.0   60.9   58.0  "
      ]
     },
     "execution_count": 34,
     "metadata": {},
     "output_type": "execute_result"
    }
   ],
   "source": [
    "from sklearn.preprocessing import OneHotEncoder\n",
    "from sklearn.compose import ColumnTransformer\n",
    "\n",
    "columnTransformer = ColumnTransformer([('encoder', OneHotEncoder(drop='first'), ['color'])], remainder='passthrough')\n",
    "data = columnTransformer.fit_transform(df)\n",
    "column_name = columnTransformer.get_feature_names()\n",
    "data =  pd.DataFrame(data, columns= column_name)\n",
    "data.head(2)"
   ]
  },
  {
   "cell_type": "code",
   "execution_count": 35,
   "id": "54f06a59",
   "metadata": {
    "execution": {
     "iopub.execute_input": "2022-04-16T21:19:08.330330Z",
     "iopub.status.busy": "2022-04-16T21:19:08.329591Z",
     "iopub.status.idle": "2022-04-16T21:19:08.339902Z",
     "shell.execute_reply": "2022-04-16T21:19:08.339456Z",
     "shell.execute_reply.started": "2022-04-16T21:12:43.541387Z"
    },
    "papermill": {
     "duration": 0.084602,
     "end_time": "2022-04-16T21:19:08.340022",
     "exception": false,
     "start_time": "2022-04-16T21:19:08.255420",
     "status": "completed"
    },
    "tags": []
   },
   "outputs": [],
   "source": [
    "num=['carat','depth','table']\n",
    "from sklearn.preprocessing import StandardScaler\n",
    "sub = data[num]\n",
    "scaler = StandardScaler()\n",
    "X = pd.DataFrame(scaler.fit_transform(sub), columns=sub.columns)"
   ]
  },
  {
   "cell_type": "code",
   "execution_count": 36,
   "id": "0ae498ff",
   "metadata": {
    "execution": {
     "iopub.execute_input": "2022-04-16T21:19:08.485266Z",
     "iopub.status.busy": "2022-04-16T21:19:08.484219Z",
     "iopub.status.idle": "2022-04-16T21:19:08.501017Z",
     "shell.execute_reply": "2022-04-16T21:19:08.500581Z",
     "shell.execute_reply.started": "2022-04-16T21:12:43.562328Z"
    },
    "papermill": {
     "duration": 0.092179,
     "end_time": "2022-04-16T21:19:08.501131",
     "exception": false,
     "start_time": "2022-04-16T21:19:08.408952",
     "status": "completed"
    },
    "tags": []
   },
   "outputs": [
    {
     "data": {
      "text/html": [
       "<div>\n",
       "<style scoped>\n",
       "    .dataframe tbody tr th:only-of-type {\n",
       "        vertical-align: middle;\n",
       "    }\n",
       "\n",
       "    .dataframe tbody tr th {\n",
       "        vertical-align: top;\n",
       "    }\n",
       "\n",
       "    .dataframe thead th {\n",
       "        text-align: right;\n",
       "    }\n",
       "</style>\n",
       "<table border=\"1\" class=\"dataframe\">\n",
       "  <thead>\n",
       "    <tr style=\"text-align: right;\">\n",
       "      <th></th>\n",
       "      <th>encoder__x0_E</th>\n",
       "      <th>encoder__x0_F</th>\n",
       "      <th>encoder__x0_G</th>\n",
       "      <th>encoder__x0_H</th>\n",
       "      <th>encoder__x0_I</th>\n",
       "      <th>encoder__x0_J</th>\n",
       "      <th>cut</th>\n",
       "      <th>clarity</th>\n",
       "      <th>carat</th>\n",
       "      <th>depth</th>\n",
       "      <th>table</th>\n",
       "    </tr>\n",
       "  </thead>\n",
       "  <tbody>\n",
       "    <tr>\n",
       "      <th>0</th>\n",
       "      <td>0.0</td>\n",
       "      <td>0.0</td>\n",
       "      <td>0.0</td>\n",
       "      <td>0.0</td>\n",
       "      <td>1.0</td>\n",
       "      <td>0.0</td>\n",
       "      <td>5.0</td>\n",
       "      <td>2.0</td>\n",
       "      <td>0.553580</td>\n",
       "      <td>0.035207</td>\n",
       "      <td>-0.204491</td>\n",
       "    </tr>\n",
       "    <tr>\n",
       "      <th>1</th>\n",
       "      <td>0.0</td>\n",
       "      <td>0.0</td>\n",
       "      <td>1.0</td>\n",
       "      <td>0.0</td>\n",
       "      <td>0.0</td>\n",
       "      <td>0.0</td>\n",
       "      <td>4.0</td>\n",
       "      <td>6.0</td>\n",
       "      <td>1.503363</td>\n",
       "      <td>-0.593146</td>\n",
       "      <td>0.243123</td>\n",
       "    </tr>\n",
       "    <tr>\n",
       "      <th>2</th>\n",
       "      <td>0.0</td>\n",
       "      <td>1.0</td>\n",
       "      <td>0.0</td>\n",
       "      <td>0.0</td>\n",
       "      <td>0.0</td>\n",
       "      <td>0.0</td>\n",
       "      <td>5.0</td>\n",
       "      <td>4.0</td>\n",
       "      <td>-1.008286</td>\n",
       "      <td>-0.313878</td>\n",
       "      <td>-0.652105</td>\n",
       "    </tr>\n",
       "  </tbody>\n",
       "</table>\n",
       "</div>"
      ],
      "text/plain": [
       "   encoder__x0_E  encoder__x0_F  encoder__x0_G  encoder__x0_H  encoder__x0_I  \\\n",
       "0            0.0            0.0            0.0            0.0            1.0   \n",
       "1            0.0            0.0            1.0            0.0            0.0   \n",
       "2            0.0            1.0            0.0            0.0            0.0   \n",
       "\n",
       "   encoder__x0_J  cut  clarity     carat     depth     table  \n",
       "0            0.0  5.0      2.0  0.553580  0.035207 -0.204491  \n",
       "1            0.0  4.0      6.0  1.503363 -0.593146  0.243123  \n",
       "2            0.0  5.0      4.0 -1.008286 -0.313878 -0.652105  "
      ]
     },
     "execution_count": 36,
     "metadata": {},
     "output_type": "execute_result"
    }
   ],
   "source": [
    "data =data.drop(num,axis =1)\n",
    "data1 =  pd.concat([data, X], axis=1)\n",
    "data1.head(3)"
   ]
  },
  {
   "cell_type": "code",
   "execution_count": 37,
   "id": "449ac9be",
   "metadata": {
    "execution": {
     "iopub.execute_input": "2022-04-16T21:19:08.643494Z",
     "iopub.status.busy": "2022-04-16T21:19:08.642862Z",
     "iopub.status.idle": "2022-04-16T21:19:08.645487Z",
     "shell.execute_reply": "2022-04-16T21:19:08.645894Z",
     "shell.execute_reply.started": "2022-04-16T21:12:43.591301Z"
    },
    "papermill": {
     "duration": 0.076406,
     "end_time": "2022-04-16T21:19:08.646039",
     "exception": false,
     "start_time": "2022-04-16T21:19:08.569633",
     "status": "completed"
    },
    "tags": []
   },
   "outputs": [
    {
     "data": {
      "text/plain": [
       "10788"
      ]
     },
     "execution_count": 37,
     "metadata": {},
     "output_type": "execute_result"
    }
   ],
   "source": [
    "test_len"
   ]
  },
  {
   "cell_type": "code",
   "execution_count": 38,
   "id": "af9b63f5",
   "metadata": {
    "execution": {
     "iopub.execute_input": "2022-04-16T21:19:08.788307Z",
     "iopub.status.busy": "2022-04-16T21:19:08.787508Z",
     "iopub.status.idle": "2022-04-16T21:19:08.789199Z",
     "shell.execute_reply": "2022-04-16T21:19:08.789608Z",
     "shell.execute_reply.started": "2022-04-16T21:12:43.599499Z"
    },
    "papermill": {
     "duration": 0.074652,
     "end_time": "2022-04-16T21:19:08.789744",
     "exception": false,
     "start_time": "2022-04-16T21:19:08.715092",
     "status": "completed"
    },
    "tags": []
   },
   "outputs": [],
   "source": [
    "train = data1[:train_len]\n",
    "test=data1[train_len:]"
   ]
  },
  {
   "cell_type": "code",
   "execution_count": 39,
   "id": "3f123e73",
   "metadata": {
    "execution": {
     "iopub.execute_input": "2022-04-16T21:19:08.944503Z",
     "iopub.status.busy": "2022-04-16T21:19:08.943866Z",
     "iopub.status.idle": "2022-04-16T21:19:08.992533Z",
     "shell.execute_reply": "2022-04-16T21:19:08.992139Z",
     "shell.execute_reply.started": "2022-04-16T21:12:43.608780Z"
    },
    "papermill": {
     "duration": 0.125348,
     "end_time": "2022-04-16T21:19:08.992670",
     "exception": false,
     "start_time": "2022-04-16T21:19:08.867322",
     "status": "completed"
    },
    "tags": []
   },
   "outputs": [],
   "source": [
    "from sklearn.model_selection import train_test_split\n",
    "x_train, x_test, y_train, y_test = train_test_split(train, y, test_size=0.25, random_state=42)"
   ]
  },
  {
   "cell_type": "code",
   "execution_count": 40,
   "id": "e2b51e8a",
   "metadata": {
    "execution": {
     "iopub.execute_input": "2022-04-16T21:19:09.135561Z",
     "iopub.status.busy": "2022-04-16T21:19:09.134859Z",
     "iopub.status.idle": "2022-04-16T21:19:09.370530Z",
     "shell.execute_reply": "2022-04-16T21:19:09.370035Z",
     "shell.execute_reply.started": "2022-04-16T21:12:43.668593Z"
    },
    "papermill": {
     "duration": 0.308755,
     "end_time": "2022-04-16T21:19:09.370688",
     "exception": false,
     "start_time": "2022-04-16T21:19:09.061933",
     "status": "completed"
    },
    "tags": []
   },
   "outputs": [],
   "source": [
    "import xgboost\n",
    "from sklearn.neural_network import MLPRegressor\n",
    "from sklearn.ensemble import RandomForestRegressor\n"
   ]
  },
  {
   "cell_type": "code",
   "execution_count": 41,
   "id": "3e09ddd6",
   "metadata": {
    "execution": {
     "iopub.execute_input": "2022-04-16T21:19:09.539490Z",
     "iopub.status.busy": "2022-04-16T21:19:09.538657Z",
     "iopub.status.idle": "2022-04-16T21:19:09.540470Z",
     "shell.execute_reply": "2022-04-16T21:19:09.540972Z",
     "shell.execute_reply.started": "2022-04-16T21:12:43.912741Z"
    },
    "papermill": {
     "duration": 0.082375,
     "end_time": "2022-04-16T21:19:09.541109",
     "exception": false,
     "start_time": "2022-04-16T21:19:09.458734",
     "status": "completed"
    },
    "tags": []
   },
   "outputs": [],
   "source": [
    "model_params = {\n",
    "    'mlp': {\n",
    "        'model': MLPRegressor(random_state=1),\n",
    "        'params' : {\n",
    "            'alpha': [0.0001,0.0005,0.001,0.005],\n",
    "            'max_iter': [250,350,500]\n",
    "        }  \n",
    "    },\n",
    "    'random_forest': {\n",
    "        'model': RandomForestRegressor(),\n",
    "        'params' : {\n",
    "            \n",
    "            'max_depth': [80, 90, 100, 110],\n",
    "    'max_features': [2, 3],\n",
    "    \n",
    "        'n_estimators': [100,190,290]\n",
    "        }\n",
    "    },\n",
    "    'xgboost' : {\n",
    "        'model': xgboost.XGBRegressor(),\n",
    "        'params': {\n",
    "            'gamma': [0.5, 1, 1.5, 2],\n",
    "            'min_child_weight': [1, 5, 10],\n",
    "            'eta': [ 0.01,0.05,0.1,0.3],\n",
    "            'max_depth': [ 4,5,6],\n",
    "            'n_estimators' : [200, 500, 900]\n",
    "        }\n",
    "    }\n",
    "}"
   ]
  },
  {
   "cell_type": "markdown",
   "id": "cf5ad4e7",
   "metadata": {
    "papermill": {
     "duration": 0.072648,
     "end_time": "2022-04-16T21:19:09.686536",
     "exception": false,
     "start_time": "2022-04-16T21:19:09.613888",
     "status": "completed"
    },
    "tags": []
   },
   "source": [
    "grid search took a lot of time, i couldn't pursue it"
   ]
  },
  {
   "cell_type": "markdown",
   "id": "6ecd91e4",
   "metadata": {
    "execution": {
     "iopub.execute_input": "2022-04-16T14:01:15.137554Z",
     "iopub.status.busy": "2022-04-16T14:01:15.137051Z",
     "iopub.status.idle": "2022-04-16T14:01:31.24523Z",
     "shell.execute_reply": "2022-04-16T14:01:31.244095Z",
     "shell.execute_reply.started": "2022-04-16T14:01:15.137455Z"
    },
    "papermill": {
     "duration": 0.089098,
     "end_time": "2022-04-16T21:19:09.849211",
     "exception": false,
     "start_time": "2022-04-16T21:19:09.760113",
     "status": "completed"
    },
    "tags": []
   },
   "source": [
    "regr = MLPRegressor(random_state=1, max_iter=500, ).fit(x_train, y_train)\n",
    "regr.score(x_test, y_test)"
   ]
  },
  {
   "cell_type": "code",
   "execution_count": 42,
   "id": "cef8cdfd",
   "metadata": {
    "execution": {
     "iopub.execute_input": "2022-04-16T21:19:10.138779Z",
     "iopub.status.busy": "2022-04-16T21:19:10.137801Z",
     "iopub.status.idle": "2022-04-16T21:19:10.140291Z",
     "shell.execute_reply": "2022-04-16T21:19:10.139568Z",
     "shell.execute_reply.started": "2022-04-16T21:12:43.921984Z"
    },
    "papermill": {
     "duration": 0.147351,
     "end_time": "2022-04-16T21:19:10.140454",
     "exception": false,
     "start_time": "2022-04-16T21:19:09.993103",
     "status": "completed"
    },
    "tags": []
   },
   "outputs": [],
   "source": [
    "#modelx = xgboost.XGBRegressor(n_estimators=500)"
   ]
  },
  {
   "cell_type": "code",
   "execution_count": 43,
   "id": "9235e40e",
   "metadata": {
    "execution": {
     "iopub.execute_input": "2022-04-16T21:19:10.374483Z",
     "iopub.status.busy": "2022-04-16T21:19:10.373646Z",
     "iopub.status.idle": "2022-04-16T21:19:10.375827Z",
     "shell.execute_reply": "2022-04-16T21:19:10.375188Z",
     "shell.execute_reply.started": "2022-04-16T21:12:43.933172Z"
    },
    "papermill": {
     "duration": 0.120763,
     "end_time": "2022-04-16T21:19:10.375987",
     "exception": false,
     "start_time": "2022-04-16T21:19:10.255224",
     "status": "completed"
    },
    "tags": []
   },
   "outputs": [],
   "source": [
    "#modelx.fit(x_train, y_train)\n",
    "#modelx.score(x_test,y_test)"
   ]
  },
  {
   "cell_type": "markdown",
   "id": "7fff932e",
   "metadata": {
    "execution": {
     "iopub.execute_input": "2022-04-16T20:15:40.942772Z",
     "iopub.status.busy": "2022-04-16T20:15:40.942283Z",
     "iopub.status.idle": "2022-04-16T20:19:02.726193Z",
     "shell.execute_reply": "2022-04-16T20:19:02.725499Z",
     "shell.execute_reply.started": "2022-04-16T20:15:40.942733Z"
    },
    "papermill": {
     "duration": 0.06878,
     "end_time": "2022-04-16T21:19:10.528259",
     "exception": false,
     "start_time": "2022-04-16T21:19:10.459479",
     "status": "completed"
    },
    "tags": []
   },
   "source": [
    "\n",
    "from sklearn.model_selection import GridSearchCV\n",
    "scores = []\n",
    "\n",
    "\n",
    "\n",
    "clf =  GridSearchCV(xgboost.XGBRegressor(n_estimators=500,eval_metric='rmse'), {\n",
    "            \n",
    "            \n",
    "            'eta': [ 0.01,0.05,0.1],\n",
    "           \n",
    "           \n",
    "        }, cv=3, return_train_score=False)\n",
    "clf.fit(train, y)\n",
    "scores.append({\n",
    "        'model': 'xgboost',\n",
    "        'best_score': clf.best_score_,\n",
    "        'best_params': clf.best_params_\n",
    "    })\n",
    "    \n",
    "df = pd.DataFrame(scores,columns=['model','best_score','best_params'])\n",
    "df"
   ]
  },
  {
   "cell_type": "code",
   "execution_count": 44,
   "id": "661a6269",
   "metadata": {
    "execution": {
     "iopub.execute_input": "2022-04-16T21:19:10.670384Z",
     "iopub.status.busy": "2022-04-16T21:19:10.669586Z",
     "iopub.status.idle": "2022-04-16T21:19:10.672003Z",
     "shell.execute_reply": "2022-04-16T21:19:10.671478Z",
     "shell.execute_reply.started": "2022-04-16T21:13:21.762853Z"
    },
    "papermill": {
     "duration": 0.075131,
     "end_time": "2022-04-16T21:19:10.672110",
     "exception": false,
     "start_time": "2022-04-16T21:19:10.596979",
     "status": "completed"
    },
    "tags": []
   },
   "outputs": [],
   "source": [
    "m=xgboost.XGBRegressor(n_estimators=500,eta=0.05)"
   ]
  },
  {
   "cell_type": "code",
   "execution_count": 45,
   "id": "70e511b6",
   "metadata": {
    "execution": {
     "iopub.execute_input": "2022-04-16T21:19:10.814081Z",
     "iopub.status.busy": "2022-04-16T21:19:10.813430Z",
     "iopub.status.idle": "2022-04-16T21:19:22.799482Z",
     "shell.execute_reply": "2022-04-16T21:19:22.800317Z",
     "shell.execute_reply.started": "2022-04-16T21:13:39.750638Z"
    },
    "papermill": {
     "duration": 12.059142,
     "end_time": "2022-04-16T21:19:22.800503",
     "exception": false,
     "start_time": "2022-04-16T21:19:10.741361",
     "status": "completed"
    },
    "tags": []
   },
   "outputs": [
    {
     "data": {
      "text/plain": [
       "0.9818977346333624"
      ]
     },
     "execution_count": 45,
     "metadata": {},
     "output_type": "execute_result"
    }
   ],
   "source": [
    "m.fit(x_train, y_train)\n",
    "m.score(x_test,y_test)"
   ]
  },
  {
   "cell_type": "code",
   "execution_count": 46,
   "id": "63391f60",
   "metadata": {
    "execution": {
     "iopub.execute_input": "2022-04-16T21:19:22.954425Z",
     "iopub.status.busy": "2022-04-16T21:19:22.953483Z",
     "iopub.status.idle": "2022-04-16T21:19:36.178241Z",
     "shell.execute_reply": "2022-04-16T21:19:36.177818Z",
     "shell.execute_reply.started": "2022-04-16T21:12:43.951982Z"
    },
    "papermill": {
     "duration": 13.306738,
     "end_time": "2022-04-16T21:19:36.178360",
     "exception": false,
     "start_time": "2022-04-16T21:19:22.871622",
     "status": "completed"
    },
    "tags": []
   },
   "outputs": [
    {
     "data": {
      "text/plain": [
       "XGBRegressor(base_score=0.5, booster='gbtree', colsample_bylevel=1,\n",
       "             colsample_bynode=1, colsample_bytree=1, enable_categorical=False,\n",
       "             eta=0.05, gamma=0, gpu_id=-1, importance_type=None,\n",
       "             interaction_constraints='', learning_rate=0.0500000007,\n",
       "             max_delta_step=0, max_depth=6, min_child_weight=1, missing=nan,\n",
       "             monotone_constraints='()', n_estimators=500, n_jobs=2,\n",
       "             num_parallel_tree=1, predictor='auto', random_state=0, reg_alpha=0,\n",
       "             reg_lambda=1, scale_pos_weight=1, subsample=1, tree_method='exact',\n",
       "             validate_parameters=1, verbosity=None)"
      ]
     },
     "execution_count": 46,
     "metadata": {},
     "output_type": "execute_result"
    }
   ],
   "source": [
    "m.fit(train,y)"
   ]
  },
  {
   "cell_type": "code",
   "execution_count": 47,
   "id": "34a13ded",
   "metadata": {
    "execution": {
     "iopub.execute_input": "2022-04-16T21:19:36.340778Z",
     "iopub.status.busy": "2022-04-16T21:19:36.339998Z",
     "iopub.status.idle": "2022-04-16T21:19:36.429567Z",
     "shell.execute_reply": "2022-04-16T21:19:36.430174Z",
     "shell.execute_reply.started": "2022-04-16T21:14:14.071881Z"
    },
    "papermill": {
     "duration": 0.172092,
     "end_time": "2022-04-16T21:19:36.430323",
     "exception": false,
     "start_time": "2022-04-16T21:19:36.258231",
     "status": "completed"
    },
    "tags": []
   },
   "outputs": [],
   "source": [
    "pred=m.predict(test)"
   ]
  },
  {
   "cell_type": "code",
   "execution_count": null,
   "id": "694e1089",
   "metadata": {
    "papermill": {
     "duration": 0.069542,
     "end_time": "2022-04-16T21:19:36.571366",
     "exception": false,
     "start_time": "2022-04-16T21:19:36.501824",
     "status": "completed"
    },
    "tags": []
   },
   "outputs": [],
   "source": []
  },
  {
   "cell_type": "code",
   "execution_count": 48,
   "id": "f72314ba",
   "metadata": {
    "execution": {
     "iopub.execute_input": "2022-04-16T21:19:36.715734Z",
     "iopub.status.busy": "2022-04-16T21:19:36.714780Z",
     "iopub.status.idle": "2022-04-16T21:19:36.717495Z",
     "shell.execute_reply": "2022-04-16T21:19:36.716985Z",
     "shell.execute_reply.started": "2022-04-16T21:13:00.328421Z"
    },
    "papermill": {
     "duration": 0.076431,
     "end_time": "2022-04-16T21:19:36.717621",
     "exception": false,
     "start_time": "2022-04-16T21:19:36.641190",
     "status": "completed"
    },
    "tags": []
   },
   "outputs": [],
   "source": [
    "#mysub=pd.DataFrame({'id':id,'price':np.exp(pred)})"
   ]
  },
  {
   "cell_type": "code",
   "execution_count": 49,
   "id": "787cbf81",
   "metadata": {
    "execution": {
     "iopub.execute_input": "2022-04-16T21:19:36.871263Z",
     "iopub.status.busy": "2022-04-16T21:19:36.870451Z",
     "iopub.status.idle": "2022-04-16T21:19:36.872428Z",
     "shell.execute_reply": "2022-04-16T21:19:36.872821Z",
     "shell.execute_reply.started": "2022-04-16T21:14:37.490326Z"
    },
    "papermill": {
     "duration": 0.085851,
     "end_time": "2022-04-16T21:19:36.872966",
     "exception": false,
     "start_time": "2022-04-16T21:19:36.787115",
     "status": "completed"
    },
    "tags": []
   },
   "outputs": [],
   "source": [
    "mysub=pd.DataFrame({'id':id,'price':pred})"
   ]
  },
  {
   "cell_type": "code",
   "execution_count": 50,
   "id": "1da1afbc",
   "metadata": {
    "execution": {
     "iopub.execute_input": "2022-04-16T21:19:37.017526Z",
     "iopub.status.busy": "2022-04-16T21:19:37.016769Z",
     "iopub.status.idle": "2022-04-16T21:19:37.045000Z",
     "shell.execute_reply": "2022-04-16T21:19:37.044542Z",
     "shell.execute_reply.started": "2022-04-16T21:14:40.682130Z"
    },
    "papermill": {
     "duration": 0.102453,
     "end_time": "2022-04-16T21:19:37.045106",
     "exception": false,
     "start_time": "2022-04-16T21:19:36.942653",
     "status": "completed"
    },
    "tags": []
   },
   "outputs": [],
   "source": [
    "mysub.to_csv('submission.csv', index=False)"
   ]
  },
  {
   "cell_type": "code",
   "execution_count": null,
   "id": "c82ea14e",
   "metadata": {
    "papermill": {
     "duration": 0.069943,
     "end_time": "2022-04-16T21:19:37.185041",
     "exception": false,
     "start_time": "2022-04-16T21:19:37.115098",
     "status": "completed"
    },
    "tags": []
   },
   "outputs": [],
   "source": []
  }
 ],
 "metadata": {
  "kernelspec": {
   "display_name": "Python 3",
   "language": "python",
   "name": "python3"
  },
  "language_info": {
   "codemirror_mode": {
    "name": "ipython",
    "version": 3
   },
   "file_extension": ".py",
   "mimetype": "text/x-python",
   "name": "python",
   "nbconvert_exporter": "python",
   "pygments_lexer": "ipython3",
   "version": "3.7.12"
  },
  "papermill": {
   "default_parameters": {},
   "duration": 50.102696,
   "end_time": "2022-04-16T21:19:38.365464",
   "environment_variables": {},
   "exception": null,
   "input_path": "__notebook__.ipynb",
   "output_path": "__notebook__.ipynb",
   "parameters": {},
   "start_time": "2022-04-16T21:18:48.262768",
   "version": "2.3.3"
  }
 },
 "nbformat": 4,
 "nbformat_minor": 5
}
